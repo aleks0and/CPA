{
 "cells": [
  {
   "cell_type": "markdown",
   "metadata": {},
   "source": [
    "# RECODE VARIABLES"
   ]
  },
  {
   "cell_type": "markdown",
   "metadata": {},
   "source": [
    "### Import library"
   ]
  },
  {
   "cell_type": "code",
   "execution_count": 376,
   "metadata": {},
   "outputs": [],
   "source": [
    "import pandas as pd\n",
    "import numpy as np\n",
    "import matplotlib.pyplot as plt\n",
    "import seaborn as sns\n",
    "from sklearn.preprocessing import StandardScaler\n",
    "import statsmodels.api as sm\n",
    "import scipy \n",
    "from statsmodels.formula.api import ols"
   ]
  },
  {
   "cell_type": "markdown",
   "metadata": {},
   "source": [
    "### Load data"
   ]
  },
  {
   "cell_type": "code",
   "execution_count": 271,
   "metadata": {},
   "outputs": [],
   "source": [
    "data = pd.read_csv(\"WA_Fn-UseC_-Telco-Customer-Churn.csv\")"
   ]
  },
  {
   "cell_type": "code",
   "execution_count": 272,
   "metadata": {},
   "outputs": [
    {
     "data": {
      "text/plain": [
       "(7043, 21)"
      ]
     },
     "execution_count": 272,
     "metadata": {},
     "output_type": "execute_result"
    }
   ],
   "source": [
    "data.shape"
   ]
  },
  {
   "cell_type": "code",
   "execution_count": 273,
   "metadata": {
    "scrolled": true
   },
   "outputs": [
    {
     "data": {
      "text/html": [
       "<div>\n",
       "<style scoped>\n",
       "    .dataframe tbody tr th:only-of-type {\n",
       "        vertical-align: middle;\n",
       "    }\n",
       "\n",
       "    .dataframe tbody tr th {\n",
       "        vertical-align: top;\n",
       "    }\n",
       "\n",
       "    .dataframe thead th {\n",
       "        text-align: right;\n",
       "    }\n",
       "</style>\n",
       "<table border=\"1\" class=\"dataframe\">\n",
       "  <thead>\n",
       "    <tr style=\"text-align: right;\">\n",
       "      <th></th>\n",
       "      <th>customerID</th>\n",
       "      <th>gender</th>\n",
       "      <th>SeniorCitizen</th>\n",
       "      <th>Partner</th>\n",
       "      <th>Dependents</th>\n",
       "      <th>tenure</th>\n",
       "      <th>PhoneService</th>\n",
       "      <th>MultipleLines</th>\n",
       "      <th>InternetService</th>\n",
       "      <th>OnlineSecurity</th>\n",
       "      <th>...</th>\n",
       "      <th>DeviceProtection</th>\n",
       "      <th>TechSupport</th>\n",
       "      <th>StreamingTV</th>\n",
       "      <th>StreamingMovies</th>\n",
       "      <th>Contract</th>\n",
       "      <th>PaperlessBilling</th>\n",
       "      <th>PaymentMethod</th>\n",
       "      <th>MonthlyCharges</th>\n",
       "      <th>TotalCharges</th>\n",
       "      <th>Churn</th>\n",
       "    </tr>\n",
       "  </thead>\n",
       "  <tbody>\n",
       "    <tr>\n",
       "      <th>0</th>\n",
       "      <td>7590-VHVEG</td>\n",
       "      <td>Female</td>\n",
       "      <td>0</td>\n",
       "      <td>Yes</td>\n",
       "      <td>No</td>\n",
       "      <td>1</td>\n",
       "      <td>No</td>\n",
       "      <td>No phone service</td>\n",
       "      <td>DSL</td>\n",
       "      <td>No</td>\n",
       "      <td>...</td>\n",
       "      <td>No</td>\n",
       "      <td>No</td>\n",
       "      <td>No</td>\n",
       "      <td>No</td>\n",
       "      <td>Month-to-month</td>\n",
       "      <td>Yes</td>\n",
       "      <td>Electronic check</td>\n",
       "      <td>29.85</td>\n",
       "      <td>29.85</td>\n",
       "      <td>No</td>\n",
       "    </tr>\n",
       "    <tr>\n",
       "      <th>1</th>\n",
       "      <td>5575-GNVDE</td>\n",
       "      <td>Male</td>\n",
       "      <td>0</td>\n",
       "      <td>No</td>\n",
       "      <td>No</td>\n",
       "      <td>34</td>\n",
       "      <td>Yes</td>\n",
       "      <td>No</td>\n",
       "      <td>DSL</td>\n",
       "      <td>Yes</td>\n",
       "      <td>...</td>\n",
       "      <td>Yes</td>\n",
       "      <td>No</td>\n",
       "      <td>No</td>\n",
       "      <td>No</td>\n",
       "      <td>One year</td>\n",
       "      <td>No</td>\n",
       "      <td>Mailed check</td>\n",
       "      <td>56.95</td>\n",
       "      <td>1889.5</td>\n",
       "      <td>No</td>\n",
       "    </tr>\n",
       "    <tr>\n",
       "      <th>2</th>\n",
       "      <td>3668-QPYBK</td>\n",
       "      <td>Male</td>\n",
       "      <td>0</td>\n",
       "      <td>No</td>\n",
       "      <td>No</td>\n",
       "      <td>2</td>\n",
       "      <td>Yes</td>\n",
       "      <td>No</td>\n",
       "      <td>DSL</td>\n",
       "      <td>Yes</td>\n",
       "      <td>...</td>\n",
       "      <td>No</td>\n",
       "      <td>No</td>\n",
       "      <td>No</td>\n",
       "      <td>No</td>\n",
       "      <td>Month-to-month</td>\n",
       "      <td>Yes</td>\n",
       "      <td>Mailed check</td>\n",
       "      <td>53.85</td>\n",
       "      <td>108.15</td>\n",
       "      <td>Yes</td>\n",
       "    </tr>\n",
       "    <tr>\n",
       "      <th>3</th>\n",
       "      <td>7795-CFOCW</td>\n",
       "      <td>Male</td>\n",
       "      <td>0</td>\n",
       "      <td>No</td>\n",
       "      <td>No</td>\n",
       "      <td>45</td>\n",
       "      <td>No</td>\n",
       "      <td>No phone service</td>\n",
       "      <td>DSL</td>\n",
       "      <td>Yes</td>\n",
       "      <td>...</td>\n",
       "      <td>Yes</td>\n",
       "      <td>Yes</td>\n",
       "      <td>No</td>\n",
       "      <td>No</td>\n",
       "      <td>One year</td>\n",
       "      <td>No</td>\n",
       "      <td>Bank transfer (automatic)</td>\n",
       "      <td>42.30</td>\n",
       "      <td>1840.75</td>\n",
       "      <td>No</td>\n",
       "    </tr>\n",
       "    <tr>\n",
       "      <th>4</th>\n",
       "      <td>9237-HQITU</td>\n",
       "      <td>Female</td>\n",
       "      <td>0</td>\n",
       "      <td>No</td>\n",
       "      <td>No</td>\n",
       "      <td>2</td>\n",
       "      <td>Yes</td>\n",
       "      <td>No</td>\n",
       "      <td>Fiber optic</td>\n",
       "      <td>No</td>\n",
       "      <td>...</td>\n",
       "      <td>No</td>\n",
       "      <td>No</td>\n",
       "      <td>No</td>\n",
       "      <td>No</td>\n",
       "      <td>Month-to-month</td>\n",
       "      <td>Yes</td>\n",
       "      <td>Electronic check</td>\n",
       "      <td>70.70</td>\n",
       "      <td>151.65</td>\n",
       "      <td>Yes</td>\n",
       "    </tr>\n",
       "  </tbody>\n",
       "</table>\n",
       "<p>5 rows × 21 columns</p>\n",
       "</div>"
      ],
      "text/plain": [
       "   customerID  gender  SeniorCitizen Partner Dependents  tenure PhoneService  \\\n",
       "0  7590-VHVEG  Female              0     Yes         No       1           No   \n",
       "1  5575-GNVDE    Male              0      No         No      34          Yes   \n",
       "2  3668-QPYBK    Male              0      No         No       2          Yes   \n",
       "3  7795-CFOCW    Male              0      No         No      45           No   \n",
       "4  9237-HQITU  Female              0      No         No       2          Yes   \n",
       "\n",
       "      MultipleLines InternetService OnlineSecurity  ...  DeviceProtection  \\\n",
       "0  No phone service             DSL             No  ...                No   \n",
       "1                No             DSL            Yes  ...               Yes   \n",
       "2                No             DSL            Yes  ...                No   \n",
       "3  No phone service             DSL            Yes  ...               Yes   \n",
       "4                No     Fiber optic             No  ...                No   \n",
       "\n",
       "  TechSupport StreamingTV StreamingMovies        Contract PaperlessBilling  \\\n",
       "0          No          No              No  Month-to-month              Yes   \n",
       "1          No          No              No        One year               No   \n",
       "2          No          No              No  Month-to-month              Yes   \n",
       "3         Yes          No              No        One year               No   \n",
       "4          No          No              No  Month-to-month              Yes   \n",
       "\n",
       "               PaymentMethod MonthlyCharges  TotalCharges Churn  \n",
       "0           Electronic check          29.85         29.85    No  \n",
       "1               Mailed check          56.95        1889.5    No  \n",
       "2               Mailed check          53.85        108.15   Yes  \n",
       "3  Bank transfer (automatic)          42.30       1840.75    No  \n",
       "4           Electronic check          70.70        151.65   Yes  \n",
       "\n",
       "[5 rows x 21 columns]"
      ]
     },
     "execution_count": 273,
     "metadata": {},
     "output_type": "execute_result"
    }
   ],
   "source": [
    "data.head()"
   ]
  },
  {
   "cell_type": "markdown",
   "metadata": {},
   "source": [
    "### Recode some variables into dummies and drop the first dummy for each "
   ]
  },
  {
   "cell_type": "code",
   "execution_count": 274,
   "metadata": {},
   "outputs": [],
   "source": [
    "data = pd.get_dummies(data, columns=['gender', 'Partner', 'Dependents', 'PhoneService', 'PaperlessBilling', 'Churn',\n",
    "                                    'MultipleLines', 'OnlineSecurity', 'OnlineBackup', 'DeviceProtection', 'TechSupport',\n",
    "                                     'StreamingTV','StreamingMovies'], drop_first = True)"
   ]
  },
  {
   "cell_type": "markdown",
   "metadata": {},
   "source": [
    "### Drop other dummies generated from the same variables"
   ]
  },
  {
   "cell_type": "markdown",
   "metadata": {},
   "source": [
    "##### For instance, from the variable Onlinebackup the following dummies are created:\n",
    "###### - OnlineBackup_No\n",
    "###### - OnlineBackup_No internet service\n",
    "###### - OnlineBackup_yes\n",
    "##### The first one is removed through the command drop_first in the previous cell\n",
    "##### The second one is removed in the following cell"
   ]
  },
  {
   "cell_type": "code",
   "execution_count": 275,
   "metadata": {},
   "outputs": [],
   "source": [
    "data = data.drop(['MultipleLines_No phone service', 'OnlineSecurity_No internet service', 'OnlineBackup_No internet service',\n",
    "                 'DeviceProtection_No internet service', 'TechSupport_No internet service', 'StreamingTV_No internet service',\n",
    "                 'StreamingMovies_No internet service'], axis = 1)"
   ]
  },
  {
   "cell_type": "markdown",
   "metadata": {},
   "source": [
    "### Recode some other variables into dummies without dropping the first dummy for each"
   ]
  },
  {
   "cell_type": "code",
   "execution_count": 276,
   "metadata": {},
   "outputs": [],
   "source": [
    "data = pd.get_dummies(data, columns=['InternetService', 'Contract', 'PaymentMethod'])"
   ]
  },
  {
   "cell_type": "markdown",
   "metadata": {},
   "source": [
    "### Arbitrarily drop one dummy for each variable "
   ]
  },
  {
   "cell_type": "code",
   "execution_count": 277,
   "metadata": {},
   "outputs": [],
   "source": [
    "data = data.drop(['InternetService_No', 'Contract_Two year', 'PaymentMethod_Bank transfer (automatic)'], axis = 1)\n"
   ]
  },
  {
   "cell_type": "markdown",
   "metadata": {},
   "source": [
    "### Rename the SeniorCitizen column which was already coded into 1 and 0 to be in line with the newly created dummies "
   ]
  },
  {
   "cell_type": "code",
   "execution_count": 278,
   "metadata": {},
   "outputs": [],
   "source": [
    "data = data.rename(index=str, columns={\"SeniorCitizen\": \"SeniorCitizen_Yes\"})"
   ]
  },
  {
   "cell_type": "markdown",
   "metadata": {},
   "source": [
    "### Transform the values in the Total Charges column from strings to numbers and check the type of all the variables"
   ]
  },
  {
   "cell_type": "code",
   "execution_count": 279,
   "metadata": {},
   "outputs": [],
   "source": [
    "data.TotalCharges = pd.to_numeric(data.TotalCharges, errors='coerce')"
   ]
  },
  {
   "cell_type": "code",
   "execution_count": 280,
   "metadata": {},
   "outputs": [],
   "source": [
    "# data.applymap(type)==str"
   ]
  },
  {
   "cell_type": "code",
   "execution_count": 281,
   "metadata": {},
   "outputs": [
    {
     "data": {
      "text/html": [
       "<div>\n",
       "<style scoped>\n",
       "    .dataframe tbody tr th:only-of-type {\n",
       "        vertical-align: middle;\n",
       "    }\n",
       "\n",
       "    .dataframe tbody tr th {\n",
       "        vertical-align: top;\n",
       "    }\n",
       "\n",
       "    .dataframe thead th {\n",
       "        text-align: right;\n",
       "    }\n",
       "</style>\n",
       "<table border=\"1\" class=\"dataframe\">\n",
       "  <thead>\n",
       "    <tr style=\"text-align: right;\">\n",
       "      <th></th>\n",
       "      <th>customerID</th>\n",
       "      <th>SeniorCitizen_Yes</th>\n",
       "      <th>tenure</th>\n",
       "      <th>MonthlyCharges</th>\n",
       "      <th>TotalCharges</th>\n",
       "      <th>gender_Male</th>\n",
       "      <th>Partner_Yes</th>\n",
       "      <th>Dependents_Yes</th>\n",
       "      <th>PhoneService_Yes</th>\n",
       "      <th>PaperlessBilling_Yes</th>\n",
       "      <th>...</th>\n",
       "      <th>TechSupport_Yes</th>\n",
       "      <th>StreamingTV_Yes</th>\n",
       "      <th>StreamingMovies_Yes</th>\n",
       "      <th>InternetService_DSL</th>\n",
       "      <th>InternetService_Fiber optic</th>\n",
       "      <th>Contract_Month-to-month</th>\n",
       "      <th>Contract_One year</th>\n",
       "      <th>PaymentMethod_Credit card (automatic)</th>\n",
       "      <th>PaymentMethod_Electronic check</th>\n",
       "      <th>PaymentMethod_Mailed check</th>\n",
       "    </tr>\n",
       "  </thead>\n",
       "  <tbody>\n",
       "    <tr>\n",
       "      <th>0</th>\n",
       "      <td>7590-VHVEG</td>\n",
       "      <td>0</td>\n",
       "      <td>1</td>\n",
       "      <td>29.85</td>\n",
       "      <td>29.85</td>\n",
       "      <td>0</td>\n",
       "      <td>1</td>\n",
       "      <td>0</td>\n",
       "      <td>0</td>\n",
       "      <td>1</td>\n",
       "      <td>...</td>\n",
       "      <td>0</td>\n",
       "      <td>0</td>\n",
       "      <td>0</td>\n",
       "      <td>1</td>\n",
       "      <td>0</td>\n",
       "      <td>1</td>\n",
       "      <td>0</td>\n",
       "      <td>0</td>\n",
       "      <td>1</td>\n",
       "      <td>0</td>\n",
       "    </tr>\n",
       "    <tr>\n",
       "      <th>1</th>\n",
       "      <td>5575-GNVDE</td>\n",
       "      <td>0</td>\n",
       "      <td>34</td>\n",
       "      <td>56.95</td>\n",
       "      <td>1889.50</td>\n",
       "      <td>1</td>\n",
       "      <td>0</td>\n",
       "      <td>0</td>\n",
       "      <td>1</td>\n",
       "      <td>0</td>\n",
       "      <td>...</td>\n",
       "      <td>0</td>\n",
       "      <td>0</td>\n",
       "      <td>0</td>\n",
       "      <td>1</td>\n",
       "      <td>0</td>\n",
       "      <td>0</td>\n",
       "      <td>1</td>\n",
       "      <td>0</td>\n",
       "      <td>0</td>\n",
       "      <td>1</td>\n",
       "    </tr>\n",
       "    <tr>\n",
       "      <th>2</th>\n",
       "      <td>3668-QPYBK</td>\n",
       "      <td>0</td>\n",
       "      <td>2</td>\n",
       "      <td>53.85</td>\n",
       "      <td>108.15</td>\n",
       "      <td>1</td>\n",
       "      <td>0</td>\n",
       "      <td>0</td>\n",
       "      <td>1</td>\n",
       "      <td>1</td>\n",
       "      <td>...</td>\n",
       "      <td>0</td>\n",
       "      <td>0</td>\n",
       "      <td>0</td>\n",
       "      <td>1</td>\n",
       "      <td>0</td>\n",
       "      <td>1</td>\n",
       "      <td>0</td>\n",
       "      <td>0</td>\n",
       "      <td>0</td>\n",
       "      <td>1</td>\n",
       "    </tr>\n",
       "    <tr>\n",
       "      <th>3</th>\n",
       "      <td>7795-CFOCW</td>\n",
       "      <td>0</td>\n",
       "      <td>45</td>\n",
       "      <td>42.30</td>\n",
       "      <td>1840.75</td>\n",
       "      <td>1</td>\n",
       "      <td>0</td>\n",
       "      <td>0</td>\n",
       "      <td>0</td>\n",
       "      <td>0</td>\n",
       "      <td>...</td>\n",
       "      <td>1</td>\n",
       "      <td>0</td>\n",
       "      <td>0</td>\n",
       "      <td>1</td>\n",
       "      <td>0</td>\n",
       "      <td>0</td>\n",
       "      <td>1</td>\n",
       "      <td>0</td>\n",
       "      <td>0</td>\n",
       "      <td>0</td>\n",
       "    </tr>\n",
       "    <tr>\n",
       "      <th>4</th>\n",
       "      <td>9237-HQITU</td>\n",
       "      <td>0</td>\n",
       "      <td>2</td>\n",
       "      <td>70.70</td>\n",
       "      <td>151.65</td>\n",
       "      <td>0</td>\n",
       "      <td>0</td>\n",
       "      <td>0</td>\n",
       "      <td>1</td>\n",
       "      <td>1</td>\n",
       "      <td>...</td>\n",
       "      <td>0</td>\n",
       "      <td>0</td>\n",
       "      <td>0</td>\n",
       "      <td>0</td>\n",
       "      <td>1</td>\n",
       "      <td>1</td>\n",
       "      <td>0</td>\n",
       "      <td>0</td>\n",
       "      <td>1</td>\n",
       "      <td>0</td>\n",
       "    </tr>\n",
       "  </tbody>\n",
       "</table>\n",
       "<p>5 rows × 25 columns</p>\n",
       "</div>"
      ],
      "text/plain": [
       "   customerID  SeniorCitizen_Yes  tenure  MonthlyCharges  TotalCharges  \\\n",
       "0  7590-VHVEG                  0       1           29.85         29.85   \n",
       "1  5575-GNVDE                  0      34           56.95       1889.50   \n",
       "2  3668-QPYBK                  0       2           53.85        108.15   \n",
       "3  7795-CFOCW                  0      45           42.30       1840.75   \n",
       "4  9237-HQITU                  0       2           70.70        151.65   \n",
       "\n",
       "   gender_Male  Partner_Yes  Dependents_Yes  PhoneService_Yes  \\\n",
       "0            0            1               0                 0   \n",
       "1            1            0               0                 1   \n",
       "2            1            0               0                 1   \n",
       "3            1            0               0                 0   \n",
       "4            0            0               0                 1   \n",
       "\n",
       "   PaperlessBilling_Yes             ...              TechSupport_Yes  \\\n",
       "0                     1             ...                            0   \n",
       "1                     0             ...                            0   \n",
       "2                     1             ...                            0   \n",
       "3                     0             ...                            1   \n",
       "4                     1             ...                            0   \n",
       "\n",
       "   StreamingTV_Yes  StreamingMovies_Yes  InternetService_DSL  \\\n",
       "0                0                    0                    1   \n",
       "1                0                    0                    1   \n",
       "2                0                    0                    1   \n",
       "3                0                    0                    1   \n",
       "4                0                    0                    0   \n",
       "\n",
       "   InternetService_Fiber optic  Contract_Month-to-month  Contract_One year  \\\n",
       "0                            0                        1                  0   \n",
       "1                            0                        0                  1   \n",
       "2                            0                        1                  0   \n",
       "3                            0                        0                  1   \n",
       "4                            1                        1                  0   \n",
       "\n",
       "   PaymentMethod_Credit card (automatic)  PaymentMethod_Electronic check  \\\n",
       "0                                      0                               1   \n",
       "1                                      0                               0   \n",
       "2                                      0                               0   \n",
       "3                                      0                               0   \n",
       "4                                      0                               1   \n",
       "\n",
       "   PaymentMethod_Mailed check  \n",
       "0                           0  \n",
       "1                           1  \n",
       "2                           1  \n",
       "3                           0  \n",
       "4                           0  \n",
       "\n",
       "[5 rows x 25 columns]"
      ]
     },
     "execution_count": 281,
     "metadata": {},
     "output_type": "execute_result"
    }
   ],
   "source": [
    "data.head()"
   ]
  },
  {
   "cell_type": "markdown",
   "metadata": {},
   "source": [
    "### Check if there are missing values and where they are"
   ]
  },
  {
   "cell_type": "code",
   "execution_count": 282,
   "metadata": {},
   "outputs": [
    {
     "data": {
      "text/plain": [
       "customerID                                0\n",
       "SeniorCitizen_Yes                         0\n",
       "tenure                                    0\n",
       "MonthlyCharges                            0\n",
       "TotalCharges                             11\n",
       "gender_Male                               0\n",
       "Partner_Yes                               0\n",
       "Dependents_Yes                            0\n",
       "PhoneService_Yes                          0\n",
       "PaperlessBilling_Yes                      0\n",
       "Churn_Yes                                 0\n",
       "MultipleLines_Yes                         0\n",
       "OnlineSecurity_Yes                        0\n",
       "OnlineBackup_Yes                          0\n",
       "DeviceProtection_Yes                      0\n",
       "TechSupport_Yes                           0\n",
       "StreamingTV_Yes                           0\n",
       "StreamingMovies_Yes                       0\n",
       "InternetService_DSL                       0\n",
       "InternetService_Fiber optic               0\n",
       "Contract_Month-to-month                   0\n",
       "Contract_One year                         0\n",
       "PaymentMethod_Credit card (automatic)     0\n",
       "PaymentMethod_Electronic check            0\n",
       "PaymentMethod_Mailed check                0\n",
       "dtype: int64"
      ]
     },
     "execution_count": 282,
     "metadata": {},
     "output_type": "execute_result"
    }
   ],
   "source": [
    "data.isnull().sum()"
   ]
  },
  {
   "cell_type": "markdown",
   "metadata": {},
   "source": [
    "### Drop missing values"
   ]
  },
  {
   "cell_type": "code",
   "execution_count": 283,
   "metadata": {},
   "outputs": [],
   "source": [
    "data = data.dropna()"
   ]
  },
  {
   "cell_type": "markdown",
   "metadata": {},
   "source": [
    "# CREATE EXPLICATIVE STRUCTURE TABLES"
   ]
  },
  {
   "cell_type": "markdown",
   "metadata": {},
   "source": [
    "### Count number of rows"
   ]
  },
  {
   "cell_type": "code",
   "execution_count": 284,
   "metadata": {},
   "outputs": [
    {
     "data": {
      "text/plain": [
       "7032"
      ]
     },
     "execution_count": 284,
     "metadata": {},
     "output_type": "execute_result"
    }
   ],
   "source": [
    "n_rows = len(data)\n",
    "n_rows"
   ]
  },
  {
   "cell_type": "markdown",
   "metadata": {},
   "source": [
    "### Create Explicative Structure table for the variable gender "
   ]
  },
  {
   "cell_type": "markdown",
   "metadata": {},
   "source": [
    "##### Group by gender and count the number of individuals and the number of churners in each group"
   ]
  },
  {
   "cell_type": "code",
   "execution_count": 285,
   "metadata": {},
   "outputs": [],
   "source": [
    "ES_Gender = data.groupby('gender_Male').agg({'gender_Male': 'count', 'Churn_Yes': 'sum'})"
   ]
  },
  {
   "cell_type": "markdown",
   "metadata": {},
   "source": [
    "##### Calculate the percentage of population belonging to each group and the average churn rate for each group "
   ]
  },
  {
   "cell_type": "code",
   "execution_count": 286,
   "metadata": {},
   "outputs": [],
   "source": [
    "ES_Gender['percentage_pop'] = round ((ES_Gender['gender_Male'] / n_rows),3)\n",
    "ES_Gender['avg_churn_rate'] = ES_Gender['Churn_Yes'] / ES_Gender['gender_Male'] "
   ]
  },
  {
   "cell_type": "markdown",
   "metadata": {},
   "source": [
    "##### Drop the columns 'gender_Male' and 'Churn_Yes'"
   ]
  },
  {
   "cell_type": "code",
   "execution_count": 287,
   "metadata": {},
   "outputs": [],
   "source": [
    "ES_Gender = ES_Gender.drop(['gender_Male', 'Churn_Yes'], axis = 1)"
   ]
  },
  {
   "cell_type": "markdown",
   "metadata": {},
   "source": [
    "##### Add a row for the overall population data"
   ]
  },
  {
   "cell_type": "code",
   "execution_count": 288,
   "metadata": {},
   "outputs": [],
   "source": [
    "ES_Gender = ES_Gender.append({'percentage_pop' : sum(ES_Gender['percentage_pop']),\n",
    "                              'avg_churn_rate' : sum(data['Churn_Yes'] / n_rows)} , ignore_index=True)"
   ]
  },
  {
   "cell_type": "markdown",
   "metadata": {},
   "source": [
    "##### Add a column for the headings "
   ]
  },
  {
   "cell_type": "code",
   "execution_count": 289,
   "metadata": {},
   "outputs": [
    {
     "data": {
      "text/html": [
       "<div>\n",
       "<style scoped>\n",
       "    .dataframe tbody tr th:only-of-type {\n",
       "        vertical-align: middle;\n",
       "    }\n",
       "\n",
       "    .dataframe tbody tr th {\n",
       "        vertical-align: top;\n",
       "    }\n",
       "\n",
       "    .dataframe thead th {\n",
       "        text-align: right;\n",
       "    }\n",
       "</style>\n",
       "<table border=\"1\" class=\"dataframe\">\n",
       "  <thead>\n",
       "    <tr style=\"text-align: right;\">\n",
       "      <th></th>\n",
       "      <th>Gender</th>\n",
       "      <th>percentage_pop</th>\n",
       "      <th>avg_churn_rate</th>\n",
       "    </tr>\n",
       "  </thead>\n",
       "  <tbody>\n",
       "    <tr>\n",
       "      <th>0</th>\n",
       "      <td>Female</td>\n",
       "      <td>0.495</td>\n",
       "      <td>0.269595</td>\n",
       "    </tr>\n",
       "    <tr>\n",
       "      <th>1</th>\n",
       "      <td>Male</td>\n",
       "      <td>0.505</td>\n",
       "      <td>0.262046</td>\n",
       "    </tr>\n",
       "    <tr>\n",
       "      <th>2</th>\n",
       "      <td>Overall Population</td>\n",
       "      <td>1.000</td>\n",
       "      <td>0.265785</td>\n",
       "    </tr>\n",
       "  </tbody>\n",
       "</table>\n",
       "</div>"
      ],
      "text/plain": [
       "               Gender  percentage_pop  avg_churn_rate\n",
       "0              Female           0.495        0.269595\n",
       "1                Male           0.505        0.262046\n",
       "2  Overall Population           1.000        0.265785"
      ]
     },
     "execution_count": 289,
     "metadata": {},
     "output_type": "execute_result"
    }
   ],
   "source": [
    "ES_Gender.insert(0, 'Gender', ['Female', 'Male', 'Overall Population'])\n",
    "ES_Gender"
   ]
  },
  {
   "cell_type": "markdown",
   "metadata": {},
   "source": [
    "##### COMMENT: Gender is not relevant in explaining churn behavior"
   ]
  },
  {
   "cell_type": "markdown",
   "metadata": {},
   "source": [
    "### Create Explicative Structure table for the variable SeniorCitizen_Yes"
   ]
  },
  {
   "cell_type": "code",
   "execution_count": 290,
   "metadata": {},
   "outputs": [
    {
     "data": {
      "text/html": [
       "<div>\n",
       "<style scoped>\n",
       "    .dataframe tbody tr th:only-of-type {\n",
       "        vertical-align: middle;\n",
       "    }\n",
       "\n",
       "    .dataframe tbody tr th {\n",
       "        vertical-align: top;\n",
       "    }\n",
       "\n",
       "    .dataframe thead th {\n",
       "        text-align: right;\n",
       "    }\n",
       "</style>\n",
       "<table border=\"1\" class=\"dataframe\">\n",
       "  <thead>\n",
       "    <tr style=\"text-align: right;\">\n",
       "      <th></th>\n",
       "      <th>Senior Citizen</th>\n",
       "      <th>percentage_pop</th>\n",
       "      <th>avg_churn_rate</th>\n",
       "    </tr>\n",
       "  </thead>\n",
       "  <tbody>\n",
       "    <tr>\n",
       "      <th>0</th>\n",
       "      <td>No</td>\n",
       "      <td>0.838</td>\n",
       "      <td>0.236503</td>\n",
       "    </tr>\n",
       "    <tr>\n",
       "      <th>1</th>\n",
       "      <td>Yes</td>\n",
       "      <td>0.162</td>\n",
       "      <td>0.416813</td>\n",
       "    </tr>\n",
       "    <tr>\n",
       "      <th>2</th>\n",
       "      <td>Overall Population</td>\n",
       "      <td>1.000</td>\n",
       "      <td>0.265785</td>\n",
       "    </tr>\n",
       "  </tbody>\n",
       "</table>\n",
       "</div>"
      ],
      "text/plain": [
       "       Senior Citizen  percentage_pop  avg_churn_rate\n",
       "0                  No           0.838        0.236503\n",
       "1                 Yes           0.162        0.416813\n",
       "2  Overall Population           1.000        0.265785"
      ]
     },
     "execution_count": 290,
     "metadata": {},
     "output_type": "execute_result"
    }
   ],
   "source": [
    "ES_SeniorCitizen = data.groupby('SeniorCitizen_Yes').agg({'SeniorCitizen_Yes': 'count', 'Churn_Yes': 'sum'})\n",
    "ES_SeniorCitizen['percentage_pop'] = round ((ES_SeniorCitizen['SeniorCitizen_Yes'] / n_rows),3)\n",
    "ES_SeniorCitizen['avg_churn_rate'] = ES_SeniorCitizen['Churn_Yes'] / ES_SeniorCitizen['SeniorCitizen_Yes'] \n",
    "ES_SeniorCitizen = ES_SeniorCitizen.drop(['SeniorCitizen_Yes', 'Churn_Yes'], axis = 1)\n",
    "ES_SeniorCitizen = ES_SeniorCitizen.append({'percentage_pop' : sum(ES_SeniorCitizen['percentage_pop']),\n",
    "                                            'avg_churn_rate' : sum(data['Churn_Yes'] / n_rows)} , ignore_index=True)\n",
    "ES_SeniorCitizen.insert(0, 'Senior Citizen', ['No', 'Yes', 'Overall Population'])\n",
    "ES_SeniorCitizen"
   ]
  },
  {
   "cell_type": "markdown",
   "metadata": {},
   "source": [
    "##### COMMENT: Senior citizens represent about 15% of the population and they are almost twice as likely to churn than non senior citizens"
   ]
  },
  {
   "cell_type": "markdown",
   "metadata": {},
   "source": [
    "### Create Explicative Structure table for the variable Partner_Yes"
   ]
  },
  {
   "cell_type": "code",
   "execution_count": 291,
   "metadata": {},
   "outputs": [
    {
     "data": {
      "text/html": [
       "<div>\n",
       "<style scoped>\n",
       "    .dataframe tbody tr th:only-of-type {\n",
       "        vertical-align: middle;\n",
       "    }\n",
       "\n",
       "    .dataframe tbody tr th {\n",
       "        vertical-align: top;\n",
       "    }\n",
       "\n",
       "    .dataframe thead th {\n",
       "        text-align: right;\n",
       "    }\n",
       "</style>\n",
       "<table border=\"1\" class=\"dataframe\">\n",
       "  <thead>\n",
       "    <tr style=\"text-align: right;\">\n",
       "      <th></th>\n",
       "      <th>Partner</th>\n",
       "      <th>percentage_pop</th>\n",
       "      <th>avg_churn_rate</th>\n",
       "    </tr>\n",
       "  </thead>\n",
       "  <tbody>\n",
       "    <tr>\n",
       "      <th>0</th>\n",
       "      <td>No</td>\n",
       "      <td>0.517</td>\n",
       "      <td>0.329761</td>\n",
       "    </tr>\n",
       "    <tr>\n",
       "      <th>1</th>\n",
       "      <td>Yes</td>\n",
       "      <td>0.483</td>\n",
       "      <td>0.197171</td>\n",
       "    </tr>\n",
       "    <tr>\n",
       "      <th>2</th>\n",
       "      <td>Overall Population</td>\n",
       "      <td>1.000</td>\n",
       "      <td>0.265785</td>\n",
       "    </tr>\n",
       "  </tbody>\n",
       "</table>\n",
       "</div>"
      ],
      "text/plain": [
       "              Partner  percentage_pop  avg_churn_rate\n",
       "0                  No           0.517        0.329761\n",
       "1                 Yes           0.483        0.197171\n",
       "2  Overall Population           1.000        0.265785"
      ]
     },
     "execution_count": 291,
     "metadata": {},
     "output_type": "execute_result"
    }
   ],
   "source": [
    "ES_Partner = data.groupby('Partner_Yes').agg({'Partner_Yes': 'count', 'Churn_Yes': 'sum'})\n",
    "ES_Partner['percentage_pop'] = round ((ES_Partner['Partner_Yes'] / n_rows),3)\n",
    "ES_Partner['avg_churn_rate'] = ES_Partner['Churn_Yes'] / ES_Partner['Partner_Yes'] \n",
    "ES_Partner = ES_Partner.drop(['Partner_Yes', 'Churn_Yes'], axis = 1)\n",
    "ES_Partner = ES_Partner.append({'percentage_pop' : sum(ES_Partner['percentage_pop']),\n",
    "                                'avg_churn_rate' : sum(data['Churn_Yes'] / n_rows)} , ignore_index=True)\n",
    "ES_Partner.insert(0, 'Partner', ['No', 'Yes', 'Overall Population'])\n",
    "ES_Partner"
   ]
  },
  {
   "cell_type": "markdown",
   "metadata": {},
   "source": [
    "##### COMMENT: People without a partner are more likely to churn"
   ]
  },
  {
   "cell_type": "markdown",
   "metadata": {},
   "source": [
    "### Create Explicative Structure table for the variable Dependent_Yes"
   ]
  },
  {
   "cell_type": "code",
   "execution_count": 292,
   "metadata": {},
   "outputs": [
    {
     "data": {
      "text/html": [
       "<div>\n",
       "<style scoped>\n",
       "    .dataframe tbody tr th:only-of-type {\n",
       "        vertical-align: middle;\n",
       "    }\n",
       "\n",
       "    .dataframe tbody tr th {\n",
       "        vertical-align: top;\n",
       "    }\n",
       "\n",
       "    .dataframe thead th {\n",
       "        text-align: right;\n",
       "    }\n",
       "</style>\n",
       "<table border=\"1\" class=\"dataframe\">\n",
       "  <thead>\n",
       "    <tr style=\"text-align: right;\">\n",
       "      <th></th>\n",
       "      <th>Dependents</th>\n",
       "      <th>percentage_pop</th>\n",
       "      <th>avg_churn_rate</th>\n",
       "    </tr>\n",
       "  </thead>\n",
       "  <tbody>\n",
       "    <tr>\n",
       "      <th>0</th>\n",
       "      <td>No</td>\n",
       "      <td>0.702</td>\n",
       "      <td>0.312791</td>\n",
       "    </tr>\n",
       "    <tr>\n",
       "      <th>1</th>\n",
       "      <td>Yes</td>\n",
       "      <td>0.298</td>\n",
       "      <td>0.155312</td>\n",
       "    </tr>\n",
       "    <tr>\n",
       "      <th>2</th>\n",
       "      <td>Overall Population</td>\n",
       "      <td>1.000</td>\n",
       "      <td>0.265785</td>\n",
       "    </tr>\n",
       "  </tbody>\n",
       "</table>\n",
       "</div>"
      ],
      "text/plain": [
       "           Dependents  percentage_pop  avg_churn_rate\n",
       "0                  No           0.702        0.312791\n",
       "1                 Yes           0.298        0.155312\n",
       "2  Overall Population           1.000        0.265785"
      ]
     },
     "execution_count": 292,
     "metadata": {},
     "output_type": "execute_result"
    }
   ],
   "source": [
    "ES_Dependents = data.groupby('Dependents_Yes').agg({'Dependents_Yes': 'count', 'Churn_Yes': 'sum'})\n",
    "ES_Dependents['percentage_pop'] = round((ES_Dependents['Dependents_Yes'] / n_rows),3)\n",
    "ES_Dependents['avg_churn_rate'] = ES_Dependents['Churn_Yes'] / ES_Dependents['Dependents_Yes'] \n",
    "ES_Dependents = ES_Dependents.drop(['Dependents_Yes', 'Churn_Yes'], axis = 1)\n",
    "ES_Dependents = ES_Dependents.append({'percentage_pop' : sum(ES_Dependents['percentage_pop']),\n",
    "                                    'avg_churn_rate' : sum(data['Churn_Yes'] / n_rows)} , ignore_index=True)\n",
    "ES_Dependents.insert(0, 'Dependents', ['No', 'Yes', 'Overall Population'])\n",
    "ES_Dependents"
   ]
  },
  {
   "cell_type": "markdown",
   "metadata": {},
   "source": [
    "##### COMMENT: People with no dependents are twice as likely to churn than people with dependents. Unfortunately they represent 70% of the population (difficult to target them)"
   ]
  },
  {
   "cell_type": "markdown",
   "metadata": {},
   "source": [
    "### Create Explicative Structure table for the variable Tenure"
   ]
  },
  {
   "cell_type": "markdown",
   "metadata": {},
   "source": [
    "##### Create tenure bins"
   ]
  },
  {
   "cell_type": "code",
   "execution_count": 293,
   "metadata": {},
   "outputs": [],
   "source": [
    "bin = [0,3,10,20,35,50,65,72]\n",
    "data['tenure_bins'] = pd.cut(data.tenure,bin)"
   ]
  },
  {
   "cell_type": "markdown",
   "metadata": {},
   "source": [
    "##### Create the actual Explicative Structure table "
   ]
  },
  {
   "cell_type": "code",
   "execution_count": 294,
   "metadata": {},
   "outputs": [
    {
     "data": {
      "text/html": [
       "<div>\n",
       "<style scoped>\n",
       "    .dataframe tbody tr th:only-of-type {\n",
       "        vertical-align: middle;\n",
       "    }\n",
       "\n",
       "    .dataframe tbody tr th {\n",
       "        vertical-align: top;\n",
       "    }\n",
       "\n",
       "    .dataframe thead th {\n",
       "        text-align: right;\n",
       "    }\n",
       "</style>\n",
       "<table border=\"1\" class=\"dataframe\">\n",
       "  <thead>\n",
       "    <tr style=\"text-align: right;\">\n",
       "      <th></th>\n",
       "      <th>Tenure</th>\n",
       "      <th>percentage_pop</th>\n",
       "      <th>avg_churn_rate</th>\n",
       "    </tr>\n",
       "  </thead>\n",
       "  <tbody>\n",
       "    <tr>\n",
       "      <th>0</th>\n",
       "      <td>(0,3]</td>\n",
       "      <td>0.149</td>\n",
       "      <td>0.568030</td>\n",
       "    </tr>\n",
       "    <tr>\n",
       "      <th>1</th>\n",
       "      <td>(3,10]</td>\n",
       "      <td>0.129</td>\n",
       "      <td>0.408590</td>\n",
       "    </tr>\n",
       "    <tr>\n",
       "      <th>2</th>\n",
       "      <td>(10,20]</td>\n",
       "      <td>0.129</td>\n",
       "      <td>0.311674</td>\n",
       "    </tr>\n",
       "    <tr>\n",
       "      <th>3</th>\n",
       "      <td>(20, 35]</td>\n",
       "      <td>0.158</td>\n",
       "      <td>0.224417</td>\n",
       "    </tr>\n",
       "    <tr>\n",
       "      <th>4</th>\n",
       "      <td>(35, 50]</td>\n",
       "      <td>0.135</td>\n",
       "      <td>0.190275</td>\n",
       "    </tr>\n",
       "    <tr>\n",
       "      <th>5</th>\n",
       "      <td>(50, 65]</td>\n",
       "      <td>0.152</td>\n",
       "      <td>0.116604</td>\n",
       "    </tr>\n",
       "    <tr>\n",
       "      <th>6</th>\n",
       "      <td>(65, 72]</td>\n",
       "      <td>0.147</td>\n",
       "      <td>0.060987</td>\n",
       "    </tr>\n",
       "    <tr>\n",
       "      <th>7</th>\n",
       "      <td>Overall Population</td>\n",
       "      <td>0.999</td>\n",
       "      <td>0.265785</td>\n",
       "    </tr>\n",
       "  </tbody>\n",
       "</table>\n",
       "</div>"
      ],
      "text/plain": [
       "               Tenure  percentage_pop  avg_churn_rate\n",
       "0               (0,3]           0.149        0.568030\n",
       "1              (3,10]           0.129        0.408590\n",
       "2             (10,20]           0.129        0.311674\n",
       "3            (20, 35]           0.158        0.224417\n",
       "4            (35, 50]           0.135        0.190275\n",
       "5            (50, 65]           0.152        0.116604\n",
       "6            (65, 72]           0.147        0.060987\n",
       "7  Overall Population           0.999        0.265785"
      ]
     },
     "execution_count": 294,
     "metadata": {},
     "output_type": "execute_result"
    }
   ],
   "source": [
    "ES_Tenure = data.groupby('tenure_bins').agg({'tenure_bins': 'count', 'Churn_Yes' : 'sum'})\n",
    "ES_Tenure['percentage_pop'] = round((ES_Tenure['tenure_bins'] / n_rows),3)\n",
    "ES_Tenure['avg_churn_rate'] = ES_Tenure['Churn_Yes'] / ES_Tenure['tenure_bins'] \n",
    "ES_Tenure = ES_Tenure.drop(['tenure_bins', 'Churn_Yes'], axis = 1)\n",
    "ES_Tenure = ES_Tenure.append({'percentage_pop' : sum(ES_Tenure['percentage_pop']),\n",
    "                              'avg_churn_rate' : sum(data['Churn_Yes'] / n_rows)} , ignore_index=True)\n",
    "ES_Tenure.insert(0, 'Tenure', ['(0,3]', '(3,10]', '(10,20]', '(20, 35]', '(35, 50]', '(50, 65]', \n",
    "                               '(65, 72]', 'Overall Population'])\n",
    "ES_Tenure"
   ]
  },
  {
   "cell_type": "markdown",
   "metadata": {},
   "source": [
    "##### COMMENT: People with tenure between 0 and 3 represent nearly 15% of the population and are more than double as likely to churn than the overall population"
   ]
  },
  {
   "cell_type": "markdown",
   "metadata": {},
   "source": [
    "### Create Explicative Structure table for the variable PhoneService_Yes"
   ]
  },
  {
   "cell_type": "code",
   "execution_count": 295,
   "metadata": {},
   "outputs": [
    {
     "data": {
      "text/html": [
       "<div>\n",
       "<style scoped>\n",
       "    .dataframe tbody tr th:only-of-type {\n",
       "        vertical-align: middle;\n",
       "    }\n",
       "\n",
       "    .dataframe tbody tr th {\n",
       "        vertical-align: top;\n",
       "    }\n",
       "\n",
       "    .dataframe thead th {\n",
       "        text-align: right;\n",
       "    }\n",
       "</style>\n",
       "<table border=\"1\" class=\"dataframe\">\n",
       "  <thead>\n",
       "    <tr style=\"text-align: right;\">\n",
       "      <th></th>\n",
       "      <th>Phone Service</th>\n",
       "      <th>percentage_pop</th>\n",
       "      <th>avg_churn_rate</th>\n",
       "    </tr>\n",
       "  </thead>\n",
       "  <tbody>\n",
       "    <tr>\n",
       "      <th>0</th>\n",
       "      <td>No</td>\n",
       "      <td>0.097</td>\n",
       "      <td>0.250000</td>\n",
       "    </tr>\n",
       "    <tr>\n",
       "      <th>1</th>\n",
       "      <td>Yes</td>\n",
       "      <td>0.903</td>\n",
       "      <td>0.267475</td>\n",
       "    </tr>\n",
       "    <tr>\n",
       "      <th>2</th>\n",
       "      <td>Overall Population</td>\n",
       "      <td>1.000</td>\n",
       "      <td>0.265785</td>\n",
       "    </tr>\n",
       "  </tbody>\n",
       "</table>\n",
       "</div>"
      ],
      "text/plain": [
       "        Phone Service  percentage_pop  avg_churn_rate\n",
       "0                  No           0.097        0.250000\n",
       "1                 Yes           0.903        0.267475\n",
       "2  Overall Population           1.000        0.265785"
      ]
     },
     "execution_count": 295,
     "metadata": {},
     "output_type": "execute_result"
    }
   ],
   "source": [
    "ES_PhoneService = data.groupby('PhoneService_Yes').agg({'PhoneService_Yes': 'count', 'Churn_Yes': 'sum'})\n",
    "ES_PhoneService['percentage_pop'] = round((ES_PhoneService['PhoneService_Yes'] / n_rows),3)\n",
    "ES_PhoneService['avg_churn_rate'] = ES_PhoneService['Churn_Yes'] / ES_PhoneService['PhoneService_Yes'] \n",
    "ES_PhoneService = ES_PhoneService.drop(['PhoneService_Yes', 'Churn_Yes'], axis = 1)\n",
    "ES_PhoneService = ES_PhoneService.append({'percentage_pop' : sum(ES_PhoneService['percentage_pop']),\n",
    "                                          'avg_churn_rate' : sum(data['Churn_Yes'] / n_rows)} , ignore_index=True)\n",
    "ES_PhoneService.insert(0, 'Phone Service', ['No', 'Yes', 'Overall Population'])\n",
    "ES_PhoneService"
   ]
  },
  {
   "cell_type": "markdown",
   "metadata": {},
   "source": [
    "##### COMMENT: Whether a person has a phone service or not does not influence churn behavior "
   ]
  },
  {
   "cell_type": "markdown",
   "metadata": {},
   "source": [
    "### Create Explicative Structure table for the variable MultipleLines_Yes"
   ]
  },
  {
   "cell_type": "code",
   "execution_count": 296,
   "metadata": {},
   "outputs": [
    {
     "data": {
      "text/html": [
       "<div>\n",
       "<style scoped>\n",
       "    .dataframe tbody tr th:only-of-type {\n",
       "        vertical-align: middle;\n",
       "    }\n",
       "\n",
       "    .dataframe tbody tr th {\n",
       "        vertical-align: top;\n",
       "    }\n",
       "\n",
       "    .dataframe thead th {\n",
       "        text-align: right;\n",
       "    }\n",
       "</style>\n",
       "<table border=\"1\" class=\"dataframe\">\n",
       "  <thead>\n",
       "    <tr style=\"text-align: right;\">\n",
       "      <th></th>\n",
       "      <th>Multiple Lines</th>\n",
       "      <th>percentage_pop</th>\n",
       "      <th>avg_churn_rate</th>\n",
       "    </tr>\n",
       "  </thead>\n",
       "  <tbody>\n",
       "    <tr>\n",
       "      <th>0</th>\n",
       "      <td>No</td>\n",
       "      <td>0.578</td>\n",
       "      <td>0.250677</td>\n",
       "    </tr>\n",
       "    <tr>\n",
       "      <th>1</th>\n",
       "      <td>Yes</td>\n",
       "      <td>0.422</td>\n",
       "      <td>0.286485</td>\n",
       "    </tr>\n",
       "    <tr>\n",
       "      <th>2</th>\n",
       "      <td>Overall Population</td>\n",
       "      <td>1.000</td>\n",
       "      <td>0.265785</td>\n",
       "    </tr>\n",
       "  </tbody>\n",
       "</table>\n",
       "</div>"
      ],
      "text/plain": [
       "       Multiple Lines  percentage_pop  avg_churn_rate\n",
       "0                  No           0.578        0.250677\n",
       "1                 Yes           0.422        0.286485\n",
       "2  Overall Population           1.000        0.265785"
      ]
     },
     "execution_count": 296,
     "metadata": {},
     "output_type": "execute_result"
    }
   ],
   "source": [
    "ES_MultipleLines = data.groupby('MultipleLines_Yes').agg({'MultipleLines_Yes': 'count', 'Churn_Yes': 'sum'})\n",
    "ES_MultipleLines['percentage_pop'] = round((ES_MultipleLines['MultipleLines_Yes'] / n_rows),3)\n",
    "ES_MultipleLines['avg_churn_rate'] = ES_MultipleLines['Churn_Yes'] / ES_MultipleLines['MultipleLines_Yes'] \n",
    "ES_MultipleLines = ES_MultipleLines.drop(['MultipleLines_Yes', 'Churn_Yes'], axis = 1)\n",
    "ES_MultipleLines = ES_MultipleLines.append({'percentage_pop' : sum(ES_MultipleLines['percentage_pop']),\n",
    "                                            'avg_churn_rate' : sum(data['Churn_Yes'] / n_rows)} , ignore_index=True)\n",
    "ES_MultipleLines.insert(0, 'Multiple Lines', ['No', 'Yes', 'Overall Population'])\n",
    "ES_MultipleLines"
   ]
  },
  {
   "cell_type": "markdown",
   "metadata": {},
   "source": [
    "##### COMMENT: Whether a person has multiple lines or not almost does not influence churn behavior "
   ]
  },
  {
   "cell_type": "markdown",
   "metadata": {},
   "source": [
    "### Create Explicative Structure table for the variable InternetService_DSL"
   ]
  },
  {
   "cell_type": "code",
   "execution_count": 297,
   "metadata": {},
   "outputs": [
    {
     "data": {
      "text/html": [
       "<div>\n",
       "<style scoped>\n",
       "    .dataframe tbody tr th:only-of-type {\n",
       "        vertical-align: middle;\n",
       "    }\n",
       "\n",
       "    .dataframe tbody tr th {\n",
       "        vertical-align: top;\n",
       "    }\n",
       "\n",
       "    .dataframe thead th {\n",
       "        text-align: right;\n",
       "    }\n",
       "</style>\n",
       "<table border=\"1\" class=\"dataframe\">\n",
       "  <thead>\n",
       "    <tr style=\"text-align: right;\">\n",
       "      <th></th>\n",
       "      <th>DSL</th>\n",
       "      <th>percentage_pop</th>\n",
       "      <th>avg_churn_rate</th>\n",
       "    </tr>\n",
       "  </thead>\n",
       "  <tbody>\n",
       "    <tr>\n",
       "      <th>0</th>\n",
       "      <td>No</td>\n",
       "      <td>0.656</td>\n",
       "      <td>0.305459</td>\n",
       "    </tr>\n",
       "    <tr>\n",
       "      <th>1</th>\n",
       "      <td>Yes</td>\n",
       "      <td>0.344</td>\n",
       "      <td>0.189983</td>\n",
       "    </tr>\n",
       "    <tr>\n",
       "      <th>2</th>\n",
       "      <td>Overall Population</td>\n",
       "      <td>1.000</td>\n",
       "      <td>0.265785</td>\n",
       "    </tr>\n",
       "  </tbody>\n",
       "</table>\n",
       "</div>"
      ],
      "text/plain": [
       "                  DSL  percentage_pop  avg_churn_rate\n",
       "0                  No           0.656        0.305459\n",
       "1                 Yes           0.344        0.189983\n",
       "2  Overall Population           1.000        0.265785"
      ]
     },
     "execution_count": 297,
     "metadata": {},
     "output_type": "execute_result"
    }
   ],
   "source": [
    "ES_DSL = data.groupby('InternetService_DSL').agg({'InternetService_DSL': 'count', 'Churn_Yes': 'sum'})\n",
    "ES_DSL['percentage_pop'] = round((ES_DSL['InternetService_DSL'] / n_rows),3)\n",
    "ES_DSL['avg_churn_rate'] = ES_DSL['Churn_Yes'] / ES_DSL['InternetService_DSL'] \n",
    "ES_DSL = ES_DSL.drop(['InternetService_DSL', 'Churn_Yes'], axis = 1)\n",
    "ES_DSL = ES_DSL.append({'percentage_pop' : sum(ES_DSL['percentage_pop']),\n",
    "                        'avg_churn_rate' : sum(data['Churn_Yes'] / n_rows)} , ignore_index=True)\n",
    "ES_DSL.insert(0, 'DSL', ['No', 'Yes', 'Overall Population'])\n",
    "ES_DSL"
   ]
  },
  {
   "cell_type": "markdown",
   "metadata": {},
   "source": [
    "##### COMMENT: People with no DSL are almost twice as likely to churn than people with no DSL. Unfortunately they are >60% of the population so difficult to target "
   ]
  },
  {
   "cell_type": "markdown",
   "metadata": {},
   "source": [
    "### Create Explicative Structure table for the variable InternetService_Fiber optic "
   ]
  },
  {
   "cell_type": "code",
   "execution_count": 298,
   "metadata": {},
   "outputs": [
    {
     "data": {
      "text/html": [
       "<div>\n",
       "<style scoped>\n",
       "    .dataframe tbody tr th:only-of-type {\n",
       "        vertical-align: middle;\n",
       "    }\n",
       "\n",
       "    .dataframe tbody tr th {\n",
       "        vertical-align: top;\n",
       "    }\n",
       "\n",
       "    .dataframe thead th {\n",
       "        text-align: right;\n",
       "    }\n",
       "</style>\n",
       "<table border=\"1\" class=\"dataframe\">\n",
       "  <thead>\n",
       "    <tr style=\"text-align: right;\">\n",
       "      <th></th>\n",
       "      <th>Fiber Optic</th>\n",
       "      <th>percentage_pop</th>\n",
       "      <th>avg_churn_rate</th>\n",
       "    </tr>\n",
       "  </thead>\n",
       "  <tbody>\n",
       "    <tr>\n",
       "      <th>0</th>\n",
       "      <td>No</td>\n",
       "      <td>0.56</td>\n",
       "      <td>0.145325</td>\n",
       "    </tr>\n",
       "    <tr>\n",
       "      <th>1</th>\n",
       "      <td>Yes</td>\n",
       "      <td>0.44</td>\n",
       "      <td>0.418928</td>\n",
       "    </tr>\n",
       "    <tr>\n",
       "      <th>2</th>\n",
       "      <td>Overall Population</td>\n",
       "      <td>1.00</td>\n",
       "      <td>0.265785</td>\n",
       "    </tr>\n",
       "  </tbody>\n",
       "</table>\n",
       "</div>"
      ],
      "text/plain": [
       "          Fiber Optic  percentage_pop  avg_churn_rate\n",
       "0                  No            0.56        0.145325\n",
       "1                 Yes            0.44        0.418928\n",
       "2  Overall Population            1.00        0.265785"
      ]
     },
     "execution_count": 298,
     "metadata": {},
     "output_type": "execute_result"
    }
   ],
   "source": [
    "ES_FiberOptic = data.groupby('InternetService_Fiber optic').agg({'InternetService_Fiber optic': 'count', 'Churn_Yes': 'sum'})\n",
    "ES_FiberOptic['percentage_pop'] = round((ES_FiberOptic['InternetService_Fiber optic'] / n_rows),3)\n",
    "ES_FiberOptic['avg_churn_rate'] = ES_FiberOptic['Churn_Yes'] / ES_FiberOptic['InternetService_Fiber optic'] \n",
    "ES_FiberOptic = ES_FiberOptic.drop(['InternetService_Fiber optic', 'Churn_Yes'], axis = 1)\n",
    "ES_FiberOptic = ES_FiberOptic.append({'percentage_pop' : sum(ES_FiberOptic['percentage_pop']),\n",
    "                        'avg_churn_rate' : sum(data['Churn_Yes'] / n_rows)} , ignore_index=True)\n",
    "ES_FiberOptic.insert(0, 'Fiber Optic', ['No', 'Yes', 'Overall Population'])\n",
    "ES_FiberOptic"
   ]
  },
  {
   "cell_type": "markdown",
   "metadata": {},
   "source": [
    "##### COMMENT: people with fiber optic are nearly 40% of the population and they are more than twice as likely to churn than people with no fiber optic"
   ]
  },
  {
   "cell_type": "markdown",
   "metadata": {},
   "source": [
    "### Create Explicative Structure table for the variable OnlineSecurity_Yes"
   ]
  },
  {
   "cell_type": "code",
   "execution_count": 299,
   "metadata": {},
   "outputs": [
    {
     "data": {
      "text/html": [
       "<div>\n",
       "<style scoped>\n",
       "    .dataframe tbody tr th:only-of-type {\n",
       "        vertical-align: middle;\n",
       "    }\n",
       "\n",
       "    .dataframe tbody tr th {\n",
       "        vertical-align: top;\n",
       "    }\n",
       "\n",
       "    .dataframe thead th {\n",
       "        text-align: right;\n",
       "    }\n",
       "</style>\n",
       "<table border=\"1\" class=\"dataframe\">\n",
       "  <thead>\n",
       "    <tr style=\"text-align: right;\">\n",
       "      <th></th>\n",
       "      <th>Online Security</th>\n",
       "      <th>percentage_pop</th>\n",
       "      <th>avg_churn_rate</th>\n",
       "    </tr>\n",
       "  </thead>\n",
       "  <tbody>\n",
       "    <tr>\n",
       "      <th>0</th>\n",
       "      <td>No</td>\n",
       "      <td>0.713</td>\n",
       "      <td>0.313733</td>\n",
       "    </tr>\n",
       "    <tr>\n",
       "      <th>1</th>\n",
       "      <td>Yes</td>\n",
       "      <td>0.287</td>\n",
       "      <td>0.146402</td>\n",
       "    </tr>\n",
       "    <tr>\n",
       "      <th>2</th>\n",
       "      <td>Overall Population</td>\n",
       "      <td>1.000</td>\n",
       "      <td>0.265785</td>\n",
       "    </tr>\n",
       "  </tbody>\n",
       "</table>\n",
       "</div>"
      ],
      "text/plain": [
       "      Online Security  percentage_pop  avg_churn_rate\n",
       "0                  No           0.713        0.313733\n",
       "1                 Yes           0.287        0.146402\n",
       "2  Overall Population           1.000        0.265785"
      ]
     },
     "execution_count": 299,
     "metadata": {},
     "output_type": "execute_result"
    }
   ],
   "source": [
    "ES_OnlineSecurity = data.groupby('OnlineSecurity_Yes').agg({'OnlineSecurity_Yes': 'count', 'Churn_Yes': 'sum'})\n",
    "ES_OnlineSecurity['percentage_pop'] = round((ES_OnlineSecurity['OnlineSecurity_Yes'] / n_rows),3)\n",
    "ES_OnlineSecurity['avg_churn_rate'] = ES_OnlineSecurity['Churn_Yes'] / ES_OnlineSecurity['OnlineSecurity_Yes'] \n",
    "ES_OnlineSecurity = ES_OnlineSecurity.drop(['OnlineSecurity_Yes', 'Churn_Yes'], axis = 1)\n",
    "ES_OnlineSecurity = ES_OnlineSecurity.append({'percentage_pop' : sum(ES_OnlineSecurity['percentage_pop']),\n",
    "                                              'avg_churn_rate' : sum(data['Churn_Yes'] / n_rows)} , ignore_index=True)\n",
    "ES_OnlineSecurity.insert(0, 'Online Security', ['No', 'Yes', 'Overall Population'])\n",
    "ES_OnlineSecurity"
   ]
  },
  {
   "cell_type": "markdown",
   "metadata": {},
   "source": [
    "##### COMMENT: people with no online security are twice as fiber optic are twice as likely to churn than people with online security. Unfortunately they are 70% of the population and difficult to target "
   ]
  },
  {
   "cell_type": "markdown",
   "metadata": {},
   "source": [
    "### Create Explicative Structure table for the variable OnlineBackup_Yes"
   ]
  },
  {
   "cell_type": "code",
   "execution_count": 300,
   "metadata": {},
   "outputs": [
    {
     "data": {
      "text/html": [
       "<div>\n",
       "<style scoped>\n",
       "    .dataframe tbody tr th:only-of-type {\n",
       "        vertical-align: middle;\n",
       "    }\n",
       "\n",
       "    .dataframe tbody tr th {\n",
       "        vertical-align: top;\n",
       "    }\n",
       "\n",
       "    .dataframe thead th {\n",
       "        text-align: right;\n",
       "    }\n",
       "</style>\n",
       "<table border=\"1\" class=\"dataframe\">\n",
       "  <thead>\n",
       "    <tr style=\"text-align: right;\">\n",
       "      <th></th>\n",
       "      <th>Online Backup</th>\n",
       "      <th>percentage_pop</th>\n",
       "      <th>avg_churn_rate</th>\n",
       "    </tr>\n",
       "  </thead>\n",
       "  <tbody>\n",
       "    <tr>\n",
       "      <th>0</th>\n",
       "      <td>No</td>\n",
       "      <td>0.655</td>\n",
       "      <td>0.292164</td>\n",
       "    </tr>\n",
       "    <tr>\n",
       "      <th>1</th>\n",
       "      <td>Yes</td>\n",
       "      <td>0.345</td>\n",
       "      <td>0.215670</td>\n",
       "    </tr>\n",
       "    <tr>\n",
       "      <th>2</th>\n",
       "      <td>Overall Population</td>\n",
       "      <td>1.000</td>\n",
       "      <td>0.265785</td>\n",
       "    </tr>\n",
       "  </tbody>\n",
       "</table>\n",
       "</div>"
      ],
      "text/plain": [
       "        Online Backup  percentage_pop  avg_churn_rate\n",
       "0                  No           0.655        0.292164\n",
       "1                 Yes           0.345        0.215670\n",
       "2  Overall Population           1.000        0.265785"
      ]
     },
     "execution_count": 300,
     "metadata": {},
     "output_type": "execute_result"
    }
   ],
   "source": [
    "ES_OnlineBackup = data.groupby('OnlineBackup_Yes').agg({'OnlineBackup_Yes': 'count', 'Churn_Yes': 'sum'})\n",
    "ES_OnlineBackup['percentage_pop'] = round((ES_OnlineBackup['OnlineBackup_Yes'] / n_rows),3)\n",
    "ES_OnlineBackup['avg_churn_rate'] = ES_OnlineBackup['Churn_Yes'] / ES_OnlineBackup['OnlineBackup_Yes'] \n",
    "ES_OnlineBackup = ES_OnlineBackup.drop(['OnlineBackup_Yes', 'Churn_Yes'], axis = 1)\n",
    "ES_OnlineBackup = ES_OnlineBackup.append({'percentage_pop' : sum(ES_OnlineBackup['percentage_pop']),\n",
    "                                              'avg_churn_rate' : sum(data['Churn_Yes'] / n_rows)} , ignore_index=True)\n",
    "ES_OnlineBackup.insert(0, 'Online Backup', ['No', 'Yes', 'Overall Population'])\n",
    "ES_OnlineBackup"
   ]
  },
  {
   "cell_type": "markdown",
   "metadata": {},
   "source": [
    "##### COMMENT: Having online backup or not almost does not influence churn rate"
   ]
  },
  {
   "cell_type": "markdown",
   "metadata": {},
   "source": [
    "### Create Explicative Structure table for the variable DeviceProtection_Yes"
   ]
  },
  {
   "cell_type": "code",
   "execution_count": 301,
   "metadata": {},
   "outputs": [
    {
     "data": {
      "text/html": [
       "<div>\n",
       "<style scoped>\n",
       "    .dataframe tbody tr th:only-of-type {\n",
       "        vertical-align: middle;\n",
       "    }\n",
       "\n",
       "    .dataframe tbody tr th {\n",
       "        vertical-align: top;\n",
       "    }\n",
       "\n",
       "    .dataframe thead th {\n",
       "        text-align: right;\n",
       "    }\n",
       "</style>\n",
       "<table border=\"1\" class=\"dataframe\">\n",
       "  <thead>\n",
       "    <tr style=\"text-align: right;\">\n",
       "      <th></th>\n",
       "      <th>Device Protection</th>\n",
       "      <th>percentage_pop</th>\n",
       "      <th>avg_churn_rate</th>\n",
       "    </tr>\n",
       "  </thead>\n",
       "  <tbody>\n",
       "    <tr>\n",
       "      <th>0</th>\n",
       "      <td>No</td>\n",
       "      <td>0.655</td>\n",
       "      <td>0.292164</td>\n",
       "    </tr>\n",
       "    <tr>\n",
       "      <th>1</th>\n",
       "      <td>Yes</td>\n",
       "      <td>0.345</td>\n",
       "      <td>0.215670</td>\n",
       "    </tr>\n",
       "    <tr>\n",
       "      <th>2</th>\n",
       "      <td>Overall Population</td>\n",
       "      <td>1.000</td>\n",
       "      <td>0.265785</td>\n",
       "    </tr>\n",
       "  </tbody>\n",
       "</table>\n",
       "</div>"
      ],
      "text/plain": [
       "    Device Protection  percentage_pop  avg_churn_rate\n",
       "0                  No           0.655        0.292164\n",
       "1                 Yes           0.345        0.215670\n",
       "2  Overall Population           1.000        0.265785"
      ]
     },
     "execution_count": 301,
     "metadata": {},
     "output_type": "execute_result"
    }
   ],
   "source": [
    "ES_DeviceProtection = data.groupby('OnlineBackup_Yes').agg({'OnlineBackup_Yes': 'count', 'Churn_Yes': 'sum'})\n",
    "ES_DeviceProtection['percentage_pop'] = round((ES_DeviceProtection['OnlineBackup_Yes'] / n_rows),3)\n",
    "ES_DeviceProtection['avg_churn_rate'] = ES_DeviceProtection['Churn_Yes'] / ES_DeviceProtection['OnlineBackup_Yes'] \n",
    "ES_DeviceProtection = ES_DeviceProtection.drop(['OnlineBackup_Yes', 'Churn_Yes'], axis = 1)\n",
    "ES_DeviceProtection = ES_DeviceProtection.append({'percentage_pop' : sum(ES_DeviceProtection['percentage_pop']),\n",
    "                                              'avg_churn_rate' : sum(data['Churn_Yes'] / n_rows)} , ignore_index=True)\n",
    "ES_DeviceProtection.insert(0, 'Device Protection', ['No', 'Yes', 'Overall Population'])\n",
    "ES_DeviceProtection"
   ]
  },
  {
   "cell_type": "markdown",
   "metadata": {},
   "source": [
    "##### COMMENT: Having device protection or not almost does not influence churn rate"
   ]
  },
  {
   "cell_type": "markdown",
   "metadata": {},
   "source": [
    "### Create Explicative Structure table for the variable TechSupport_Yes"
   ]
  },
  {
   "cell_type": "code",
   "execution_count": 302,
   "metadata": {},
   "outputs": [
    {
     "data": {
      "text/html": [
       "<div>\n",
       "<style scoped>\n",
       "    .dataframe tbody tr th:only-of-type {\n",
       "        vertical-align: middle;\n",
       "    }\n",
       "\n",
       "    .dataframe tbody tr th {\n",
       "        vertical-align: top;\n",
       "    }\n",
       "\n",
       "    .dataframe thead th {\n",
       "        text-align: right;\n",
       "    }\n",
       "</style>\n",
       "<table border=\"1\" class=\"dataframe\">\n",
       "  <thead>\n",
       "    <tr style=\"text-align: right;\">\n",
       "      <th></th>\n",
       "      <th>Tech Support</th>\n",
       "      <th>percentage_pop</th>\n",
       "      <th>avg_churn_rate</th>\n",
       "    </tr>\n",
       "  </thead>\n",
       "  <tbody>\n",
       "    <tr>\n",
       "      <th>0</th>\n",
       "      <td>No</td>\n",
       "      <td>0.71</td>\n",
       "      <td>0.312300</td>\n",
       "    </tr>\n",
       "    <tr>\n",
       "      <th>1</th>\n",
       "      <td>Yes</td>\n",
       "      <td>0.29</td>\n",
       "      <td>0.151961</td>\n",
       "    </tr>\n",
       "    <tr>\n",
       "      <th>2</th>\n",
       "      <td>Overall Population</td>\n",
       "      <td>1.00</td>\n",
       "      <td>0.265785</td>\n",
       "    </tr>\n",
       "  </tbody>\n",
       "</table>\n",
       "</div>"
      ],
      "text/plain": [
       "         Tech Support  percentage_pop  avg_churn_rate\n",
       "0                  No            0.71        0.312300\n",
       "1                 Yes            0.29        0.151961\n",
       "2  Overall Population            1.00        0.265785"
      ]
     },
     "execution_count": 302,
     "metadata": {},
     "output_type": "execute_result"
    }
   ],
   "source": [
    "ES_TechSupport = data.groupby('TechSupport_Yes').agg({'TechSupport_Yes': 'count', 'Churn_Yes': 'sum'})\n",
    "ES_TechSupport['percentage_pop'] = round((ES_TechSupport['TechSupport_Yes'] / n_rows),3)\n",
    "ES_TechSupport['avg_churn_rate'] = ES_TechSupport['Churn_Yes'] / ES_TechSupport['TechSupport_Yes'] \n",
    "ES_TechSupport = ES_TechSupport.drop(['TechSupport_Yes', 'Churn_Yes'], axis = 1)\n",
    "ES_TechSupport = ES_TechSupport.append({'percentage_pop' : sum(ES_TechSupport['percentage_pop']),\n",
    "                                        'avg_churn_rate' : sum(data['Churn_Yes'] / n_rows)} , ignore_index=True)\n",
    "ES_TechSupport.insert(0, 'Tech Support', ['No', 'Yes', 'Overall Population'])\n",
    "ES_TechSupport"
   ]
  },
  {
   "cell_type": "markdown",
   "metadata": {},
   "source": [
    "##### COMMENT: Having no tech support doublea the chance of churning. However, 70% of the population has no tech support so they are difficult to target."
   ]
  },
  {
   "cell_type": "markdown",
   "metadata": {},
   "source": [
    "### Create Explicative Structure table for the variable StreamingTV_Yes"
   ]
  },
  {
   "cell_type": "code",
   "execution_count": 303,
   "metadata": {},
   "outputs": [
    {
     "data": {
      "text/html": [
       "<div>\n",
       "<style scoped>\n",
       "    .dataframe tbody tr th:only-of-type {\n",
       "        vertical-align: middle;\n",
       "    }\n",
       "\n",
       "    .dataframe tbody tr th {\n",
       "        vertical-align: top;\n",
       "    }\n",
       "\n",
       "    .dataframe thead th {\n",
       "        text-align: right;\n",
       "    }\n",
       "</style>\n",
       "<table border=\"1\" class=\"dataframe\">\n",
       "  <thead>\n",
       "    <tr style=\"text-align: right;\">\n",
       "      <th></th>\n",
       "      <th>Streaming TV</th>\n",
       "      <th>percentage_pop</th>\n",
       "      <th>avg_churn_rate</th>\n",
       "    </tr>\n",
       "  </thead>\n",
       "  <tbody>\n",
       "    <tr>\n",
       "      <th>0</th>\n",
       "      <td>No</td>\n",
       "      <td>0.616</td>\n",
       "      <td>0.243705</td>\n",
       "    </tr>\n",
       "    <tr>\n",
       "      <th>1</th>\n",
       "      <td>Yes</td>\n",
       "      <td>0.384</td>\n",
       "      <td>0.301147</td>\n",
       "    </tr>\n",
       "    <tr>\n",
       "      <th>2</th>\n",
       "      <td>Overall Population</td>\n",
       "      <td>1.000</td>\n",
       "      <td>0.265785</td>\n",
       "    </tr>\n",
       "  </tbody>\n",
       "</table>\n",
       "</div>"
      ],
      "text/plain": [
       "         Streaming TV  percentage_pop  avg_churn_rate\n",
       "0                  No           0.616        0.243705\n",
       "1                 Yes           0.384        0.301147\n",
       "2  Overall Population           1.000        0.265785"
      ]
     },
     "execution_count": 303,
     "metadata": {},
     "output_type": "execute_result"
    }
   ],
   "source": [
    "ES_StreamingTV = data.groupby('StreamingTV_Yes').agg({'StreamingTV_Yes': 'count', 'Churn_Yes': 'sum'})\n",
    "ES_StreamingTV['percentage_pop'] = round((ES_StreamingTV['StreamingTV_Yes'] / n_rows),3)\n",
    "ES_StreamingTV['avg_churn_rate'] = ES_StreamingTV['Churn_Yes'] / ES_StreamingTV['StreamingTV_Yes'] \n",
    "ES_StreamingTV = ES_StreamingTV.drop(['StreamingTV_Yes', 'Churn_Yes'], axis = 1)\n",
    "ES_StreamingTV = ES_StreamingTV.append({'percentage_pop' : sum(ES_StreamingTV['percentage_pop']),\n",
    "                                        'avg_churn_rate' : sum(data['Churn_Yes'] / n_rows)} , ignore_index=True)\n",
    "ES_StreamingTV.insert(0, 'Streaming TV', ['No', 'Yes', 'Overall Population'])\n",
    "ES_StreamingTV"
   ]
  },
  {
   "cell_type": "markdown",
   "metadata": {},
   "source": [
    "##### COMMENT: People streaming TV are <40% of the population and they are less likely to churn than people not streaming TV"
   ]
  },
  {
   "cell_type": "markdown",
   "metadata": {},
   "source": [
    "### Create Explicative Structure table for the variable StreamingMovies_Yes"
   ]
  },
  {
   "cell_type": "code",
   "execution_count": 304,
   "metadata": {},
   "outputs": [
    {
     "data": {
      "text/html": [
       "<div>\n",
       "<style scoped>\n",
       "    .dataframe tbody tr th:only-of-type {\n",
       "        vertical-align: middle;\n",
       "    }\n",
       "\n",
       "    .dataframe tbody tr th {\n",
       "        vertical-align: top;\n",
       "    }\n",
       "\n",
       "    .dataframe thead th {\n",
       "        text-align: right;\n",
       "    }\n",
       "</style>\n",
       "<table border=\"1\" class=\"dataframe\">\n",
       "  <thead>\n",
       "    <tr style=\"text-align: right;\">\n",
       "      <th></th>\n",
       "      <th>Streaming Movies</th>\n",
       "      <th>percentage_pop</th>\n",
       "      <th>avg_churn_rate</th>\n",
       "    </tr>\n",
       "  </thead>\n",
       "  <tbody>\n",
       "    <tr>\n",
       "      <th>0</th>\n",
       "      <td>No</td>\n",
       "      <td>0.612</td>\n",
       "      <td>0.244362</td>\n",
       "    </tr>\n",
       "    <tr>\n",
       "      <th>1</th>\n",
       "      <td>Yes</td>\n",
       "      <td>0.388</td>\n",
       "      <td>0.299524</td>\n",
       "    </tr>\n",
       "    <tr>\n",
       "      <th>2</th>\n",
       "      <td>Overall Population</td>\n",
       "      <td>1.000</td>\n",
       "      <td>0.265785</td>\n",
       "    </tr>\n",
       "  </tbody>\n",
       "</table>\n",
       "</div>"
      ],
      "text/plain": [
       "     Streaming Movies  percentage_pop  avg_churn_rate\n",
       "0                  No           0.612        0.244362\n",
       "1                 Yes           0.388        0.299524\n",
       "2  Overall Population           1.000        0.265785"
      ]
     },
     "execution_count": 304,
     "metadata": {},
     "output_type": "execute_result"
    }
   ],
   "source": [
    "ES_StreamingMovies = data.groupby('StreamingMovies_Yes').agg({'StreamingMovies_Yes': 'count', 'Churn_Yes': 'sum'})\n",
    "ES_StreamingMovies['percentage_pop'] = round((ES_StreamingMovies['StreamingMovies_Yes'] / n_rows),3)\n",
    "ES_StreamingMovies['avg_churn_rate'] = ES_StreamingMovies['Churn_Yes'] / ES_StreamingMovies['StreamingMovies_Yes'] \n",
    "ES_StreamingMovies = ES_StreamingMovies.drop(['StreamingMovies_Yes', 'Churn_Yes'], axis = 1)\n",
    "ES_StreamingMovies = ES_StreamingMovies.append({'percentage_pop' : sum(ES_StreamingMovies['percentage_pop']),\n",
    "                                        'avg_churn_rate' : sum(data['Churn_Yes'] / n_rows)} , ignore_index=True)\n",
    "ES_StreamingMovies.insert(0, 'Streaming Movies', ['No', 'Yes', 'Overall Population'])\n",
    "ES_StreamingMovies"
   ]
  },
  {
   "cell_type": "markdown",
   "metadata": {},
   "source": [
    "##### COMMENT: Streaming movies or not almost does not affect churn rate"
   ]
  },
  {
   "cell_type": "markdown",
   "metadata": {},
   "source": [
    "### Create Explicative Structure table for the variable Contract_Month-to-month"
   ]
  },
  {
   "cell_type": "code",
   "execution_count": 305,
   "metadata": {},
   "outputs": [
    {
     "data": {
      "text/html": [
       "<div>\n",
       "<style scoped>\n",
       "    .dataframe tbody tr th:only-of-type {\n",
       "        vertical-align: middle;\n",
       "    }\n",
       "\n",
       "    .dataframe tbody tr th {\n",
       "        vertical-align: top;\n",
       "    }\n",
       "\n",
       "    .dataframe thead th {\n",
       "        text-align: right;\n",
       "    }\n",
       "</style>\n",
       "<table border=\"1\" class=\"dataframe\">\n",
       "  <thead>\n",
       "    <tr style=\"text-align: right;\">\n",
       "      <th></th>\n",
       "      <th>Contract Month to Month</th>\n",
       "      <th>percentage_pop</th>\n",
       "      <th>avg_churn_rate</th>\n",
       "    </tr>\n",
       "  </thead>\n",
       "  <tbody>\n",
       "    <tr>\n",
       "      <th>0</th>\n",
       "      <td>No</td>\n",
       "      <td>0.449</td>\n",
       "      <td>0.067786</td>\n",
       "    </tr>\n",
       "    <tr>\n",
       "      <th>1</th>\n",
       "      <td>Yes</td>\n",
       "      <td>0.551</td>\n",
       "      <td>0.427097</td>\n",
       "    </tr>\n",
       "    <tr>\n",
       "      <th>2</th>\n",
       "      <td>Overall Population</td>\n",
       "      <td>1.000</td>\n",
       "      <td>0.265785</td>\n",
       "    </tr>\n",
       "  </tbody>\n",
       "</table>\n",
       "</div>"
      ],
      "text/plain": [
       "  Contract Month to Month  percentage_pop  avg_churn_rate\n",
       "0                      No           0.449        0.067786\n",
       "1                     Yes           0.551        0.427097\n",
       "2      Overall Population           1.000        0.265785"
      ]
     },
     "execution_count": 305,
     "metadata": {},
     "output_type": "execute_result"
    }
   ],
   "source": [
    "ES_ContractMonth = data.groupby('Contract_Month-to-month').agg({'Contract_Month-to-month': 'count', 'Churn_Yes': 'sum'})\n",
    "ES_ContractMonth['percentage_pop'] = round((ES_ContractMonth['Contract_Month-to-month'] / n_rows),3)\n",
    "ES_ContractMonth['avg_churn_rate'] = ES_ContractMonth['Churn_Yes'] / ES_ContractMonth['Contract_Month-to-month'] \n",
    "ES_ContractMonth = ES_ContractMonth.drop(['Contract_Month-to-month', 'Churn_Yes'], axis = 1)\n",
    "ES_ContractMonth = ES_ContractMonth.append({'percentage_pop' : sum(ES_ContractMonth['percentage_pop']),\n",
    "                                             'avg_churn_rate' : sum(data['Churn_Yes'] / n_rows)} , ignore_index=True)\n",
    "ES_ContractMonth.insert(0, 'Contract Month to Month', ['No', 'Yes', 'Overall Population'])\n",
    "ES_ContractMonth"
   ]
  },
  {
   "cell_type": "markdown",
   "metadata": {},
   "source": [
    "##### COMMENT: People with a month to month contract represent 50% of the population and they are more than 7 times more likely to churn than people with different types of contracts"
   ]
  },
  {
   "cell_type": "markdown",
   "metadata": {},
   "source": [
    "### Create Explicative Structure table for the variable Contract_One year"
   ]
  },
  {
   "cell_type": "code",
   "execution_count": 306,
   "metadata": {},
   "outputs": [
    {
     "data": {
      "text/html": [
       "<div>\n",
       "<style scoped>\n",
       "    .dataframe tbody tr th:only-of-type {\n",
       "        vertical-align: middle;\n",
       "    }\n",
       "\n",
       "    .dataframe tbody tr th {\n",
       "        vertical-align: top;\n",
       "    }\n",
       "\n",
       "    .dataframe thead th {\n",
       "        text-align: right;\n",
       "    }\n",
       "</style>\n",
       "<table border=\"1\" class=\"dataframe\">\n",
       "  <thead>\n",
       "    <tr style=\"text-align: right;\">\n",
       "      <th></th>\n",
       "      <th>Contract One Year</th>\n",
       "      <th>percentage_pop</th>\n",
       "      <th>avg_churn_rate</th>\n",
       "    </tr>\n",
       "  </thead>\n",
       "  <tbody>\n",
       "    <tr>\n",
       "      <th>0</th>\n",
       "      <td>No</td>\n",
       "      <td>0.791</td>\n",
       "      <td>0.306295</td>\n",
       "    </tr>\n",
       "    <tr>\n",
       "      <th>1</th>\n",
       "      <td>Yes</td>\n",
       "      <td>0.209</td>\n",
       "      <td>0.112772</td>\n",
       "    </tr>\n",
       "    <tr>\n",
       "      <th>2</th>\n",
       "      <td>Overall Population</td>\n",
       "      <td>1.000</td>\n",
       "      <td>0.265785</td>\n",
       "    </tr>\n",
       "  </tbody>\n",
       "</table>\n",
       "</div>"
      ],
      "text/plain": [
       "    Contract One Year  percentage_pop  avg_churn_rate\n",
       "0                  No           0.791        0.306295\n",
       "1                 Yes           0.209        0.112772\n",
       "2  Overall Population           1.000        0.265785"
      ]
     },
     "execution_count": 306,
     "metadata": {},
     "output_type": "execute_result"
    }
   ],
   "source": [
    "ES_ContractYear = data.groupby('Contract_One year').agg({'Contract_One year': 'count', 'Churn_Yes': 'sum'})\n",
    "ES_ContractYear['percentage_pop'] = round((ES_ContractYear['Contract_One year'] / n_rows),3)\n",
    "ES_ContractYear['avg_churn_rate'] = ES_ContractYear['Churn_Yes'] / ES_ContractYear['Contract_One year'] \n",
    "ES_ContractYear = ES_ContractYear.drop(['Contract_One year', 'Churn_Yes'], axis = 1)\n",
    "ES_ContractYear = ES_ContractYear.append({'percentage_pop' : sum(ES_ContractYear['percentage_pop']),\n",
    "                                             'avg_churn_rate' : sum(data['Churn_Yes'] / n_rows)} , ignore_index=True)\n",
    "ES_ContractYear.insert(0, 'Contract One Year', ['No', 'Yes', 'Overall Population'])\n",
    "ES_ContractYear"
   ]
  },
  {
   "cell_type": "markdown",
   "metadata": {},
   "source": [
    "##### COMMENT: People with contracts different from 1 year are 3 times more likely to churn. However they are 80% of the population so difficult to target"
   ]
  },
  {
   "cell_type": "markdown",
   "metadata": {},
   "source": [
    "### Create Explicative Structure table for the variable PaperlessBilling_Yes"
   ]
  },
  {
   "cell_type": "code",
   "execution_count": 307,
   "metadata": {},
   "outputs": [
    {
     "data": {
      "text/html": [
       "<div>\n",
       "<style scoped>\n",
       "    .dataframe tbody tr th:only-of-type {\n",
       "        vertical-align: middle;\n",
       "    }\n",
       "\n",
       "    .dataframe tbody tr th {\n",
       "        vertical-align: top;\n",
       "    }\n",
       "\n",
       "    .dataframe thead th {\n",
       "        text-align: right;\n",
       "    }\n",
       "</style>\n",
       "<table border=\"1\" class=\"dataframe\">\n",
       "  <thead>\n",
       "    <tr style=\"text-align: right;\">\n",
       "      <th></th>\n",
       "      <th>Paperless Billing</th>\n",
       "      <th>percentage_pop</th>\n",
       "      <th>avg_churn_rate</th>\n",
       "    </tr>\n",
       "  </thead>\n",
       "  <tbody>\n",
       "    <tr>\n",
       "      <th>0</th>\n",
       "      <td>No</td>\n",
       "      <td>0.407</td>\n",
       "      <td>0.163757</td>\n",
       "    </tr>\n",
       "    <tr>\n",
       "      <th>1</th>\n",
       "      <td>Yes</td>\n",
       "      <td>0.593</td>\n",
       "      <td>0.335893</td>\n",
       "    </tr>\n",
       "    <tr>\n",
       "      <th>2</th>\n",
       "      <td>Overall Population</td>\n",
       "      <td>1.000</td>\n",
       "      <td>0.265785</td>\n",
       "    </tr>\n",
       "  </tbody>\n",
       "</table>\n",
       "</div>"
      ],
      "text/plain": [
       "    Paperless Billing  percentage_pop  avg_churn_rate\n",
       "0                  No           0.407        0.163757\n",
       "1                 Yes           0.593        0.335893\n",
       "2  Overall Population           1.000        0.265785"
      ]
     },
     "execution_count": 307,
     "metadata": {},
     "output_type": "execute_result"
    }
   ],
   "source": [
    "ES_PaperlessBilling = data.groupby('PaperlessBilling_Yes').agg({'PaperlessBilling_Yes': 'count', 'Churn_Yes': 'sum'})\n",
    "ES_PaperlessBilling['percentage_pop'] = round((ES_PaperlessBilling['PaperlessBilling_Yes'] / n_rows),3)\n",
    "ES_PaperlessBilling['avg_churn_rate'] = ES_PaperlessBilling['Churn_Yes'] / ES_PaperlessBilling['PaperlessBilling_Yes'] \n",
    "ES_PaperlessBilling = ES_PaperlessBilling.drop(['PaperlessBilling_Yes', 'Churn_Yes'], axis = 1)\n",
    "ES_PaperlessBilling = ES_PaperlessBilling.append({'percentage_pop' : sum(ES_PaperlessBilling['percentage_pop']),\n",
    "                                             'avg_churn_rate' : sum(data['Churn_Yes'] / n_rows)} , ignore_index=True)\n",
    "ES_PaperlessBilling.insert(0, 'Paperless Billing', ['No', 'Yes', 'Overall Population'])\n",
    "ES_PaperlessBilling"
   ]
  },
  {
   "cell_type": "markdown",
   "metadata": {},
   "source": [
    "##### COMMENT: People with paperless billing represent 60% of the population and they are twice as likely to churn than people with no paperless billing"
   ]
  },
  {
   "cell_type": "markdown",
   "metadata": {},
   "source": [
    "### Create Explicative Structure table for the variable PaymentMethod_Credit card (automatic)"
   ]
  },
  {
   "cell_type": "code",
   "execution_count": 308,
   "metadata": {},
   "outputs": [
    {
     "data": {
      "text/html": [
       "<div>\n",
       "<style scoped>\n",
       "    .dataframe tbody tr th:only-of-type {\n",
       "        vertical-align: middle;\n",
       "    }\n",
       "\n",
       "    .dataframe tbody tr th {\n",
       "        vertical-align: top;\n",
       "    }\n",
       "\n",
       "    .dataframe thead th {\n",
       "        text-align: right;\n",
       "    }\n",
       "</style>\n",
       "<table border=\"1\" class=\"dataframe\">\n",
       "  <thead>\n",
       "    <tr style=\"text-align: right;\">\n",
       "      <th></th>\n",
       "      <th>Payment Method: Credit Card</th>\n",
       "      <th>percentage_pop</th>\n",
       "      <th>avg_churn_rate</th>\n",
       "    </tr>\n",
       "  </thead>\n",
       "  <tbody>\n",
       "    <tr>\n",
       "      <th>0</th>\n",
       "      <td>No</td>\n",
       "      <td>0.784</td>\n",
       "      <td>0.297042</td>\n",
       "    </tr>\n",
       "    <tr>\n",
       "      <th>1</th>\n",
       "      <td>Yes</td>\n",
       "      <td>0.216</td>\n",
       "      <td>0.152531</td>\n",
       "    </tr>\n",
       "    <tr>\n",
       "      <th>2</th>\n",
       "      <td>Overall Population</td>\n",
       "      <td>1.000</td>\n",
       "      <td>0.265785</td>\n",
       "    </tr>\n",
       "  </tbody>\n",
       "</table>\n",
       "</div>"
      ],
      "text/plain": [
       "  Payment Method: Credit Card  percentage_pop  avg_churn_rate\n",
       "0                          No           0.784        0.297042\n",
       "1                         Yes           0.216        0.152531\n",
       "2          Overall Population           1.000        0.265785"
      ]
     },
     "execution_count": 308,
     "metadata": {},
     "output_type": "execute_result"
    }
   ],
   "source": [
    "ES_CreditCard = data.groupby('PaymentMethod_Credit card (automatic)').agg({'PaymentMethod_Credit card (automatic)': 'count', 'Churn_Yes': 'sum'})\n",
    "ES_CreditCard['percentage_pop'] = round((ES_CreditCard['PaymentMethod_Credit card (automatic)'] / n_rows),3)\n",
    "ES_CreditCard['avg_churn_rate'] = ES_CreditCard['Churn_Yes'] / ES_CreditCard['PaymentMethod_Credit card (automatic)'] \n",
    "ES_CreditCard = ES_CreditCard.drop(['PaymentMethod_Credit card (automatic)', 'Churn_Yes'], axis = 1)\n",
    "ES_CreditCard = ES_CreditCard.append({'percentage_pop' : sum(ES_CreditCard['percentage_pop']),\n",
    "                                             'avg_churn_rate' : sum(data['Churn_Yes'] / n_rows)} , ignore_index=True)\n",
    "ES_CreditCard.insert(0, 'Payment Method: Credit Card', ['No', 'Yes', 'Overall Population'])\n",
    "ES_CreditCard"
   ]
  },
  {
   "cell_type": "markdown",
   "metadata": {},
   "source": [
    "##### COMMENT: People with payment method other than credit card are twice as likely to churn. However they represent 80% of the population so difficult to target"
   ]
  },
  {
   "cell_type": "markdown",
   "metadata": {},
   "source": [
    "### Create Explicative Structure table for the variable PaymentMethod_Electronic check "
   ]
  },
  {
   "cell_type": "code",
   "execution_count": 309,
   "metadata": {},
   "outputs": [
    {
     "data": {
      "text/html": [
       "<div>\n",
       "<style scoped>\n",
       "    .dataframe tbody tr th:only-of-type {\n",
       "        vertical-align: middle;\n",
       "    }\n",
       "\n",
       "    .dataframe tbody tr th {\n",
       "        vertical-align: top;\n",
       "    }\n",
       "\n",
       "    .dataframe thead th {\n",
       "        text-align: right;\n",
       "    }\n",
       "</style>\n",
       "<table border=\"1\" class=\"dataframe\">\n",
       "  <thead>\n",
       "    <tr style=\"text-align: right;\">\n",
       "      <th></th>\n",
       "      <th>Payment Method: Electronic Check</th>\n",
       "      <th>percentage_pop</th>\n",
       "      <th>avg_churn_rate</th>\n",
       "    </tr>\n",
       "  </thead>\n",
       "  <tbody>\n",
       "    <tr>\n",
       "      <th>0</th>\n",
       "      <td>No</td>\n",
       "      <td>0.664</td>\n",
       "      <td>0.170988</td>\n",
       "    </tr>\n",
       "    <tr>\n",
       "      <th>1</th>\n",
       "      <td>Yes</td>\n",
       "      <td>0.336</td>\n",
       "      <td>0.452854</td>\n",
       "    </tr>\n",
       "    <tr>\n",
       "      <th>2</th>\n",
       "      <td>Overall Population</td>\n",
       "      <td>1.000</td>\n",
       "      <td>0.265785</td>\n",
       "    </tr>\n",
       "  </tbody>\n",
       "</table>\n",
       "</div>"
      ],
      "text/plain": [
       "  Payment Method: Electronic Check  percentage_pop  avg_churn_rate\n",
       "0                               No           0.664        0.170988\n",
       "1                              Yes           0.336        0.452854\n",
       "2               Overall Population           1.000        0.265785"
      ]
     },
     "execution_count": 309,
     "metadata": {},
     "output_type": "execute_result"
    }
   ],
   "source": [
    "ES_ElectronicCheck = data.groupby('PaymentMethod_Electronic check').agg({'PaymentMethod_Electronic check': 'count', 'Churn_Yes': 'sum'})\n",
    "ES_ElectronicCheck['percentage_pop'] = round((ES_ElectronicCheck['PaymentMethod_Electronic check'] / n_rows),3)\n",
    "ES_ElectronicCheck['avg_churn_rate'] = ES_ElectronicCheck['Churn_Yes'] / ES_ElectronicCheck['PaymentMethod_Electronic check'] \n",
    "ES_ElectronicCheck = ES_ElectronicCheck.drop(['PaymentMethod_Electronic check', 'Churn_Yes'], axis = 1)\n",
    "ES_ElectronicCheck = ES_ElectronicCheck.append({'percentage_pop' : sum(ES_ElectronicCheck['percentage_pop']),\n",
    "                                                'avg_churn_rate' : sum(data['Churn_Yes'] / n_rows)} , ignore_index=True)\n",
    "ES_ElectronicCheck.insert(0, 'Payment Method: Electronic Check', ['No', 'Yes', 'Overall Population'])\n",
    "ES_ElectronicCheck"
   ]
  },
  {
   "cell_type": "markdown",
   "metadata": {},
   "source": [
    "##### COMMENT: People with payment method: Electronic Check are more than are twice as likely to churn. They represent 34% of the population"
   ]
  },
  {
   "cell_type": "markdown",
   "metadata": {},
   "source": [
    "### Create Explicative Structure table for the variable PaymentMethod_Mailed check"
   ]
  },
  {
   "cell_type": "code",
   "execution_count": 310,
   "metadata": {},
   "outputs": [
    {
     "data": {
      "text/html": [
       "<div>\n",
       "<style scoped>\n",
       "    .dataframe tbody tr th:only-of-type {\n",
       "        vertical-align: middle;\n",
       "    }\n",
       "\n",
       "    .dataframe tbody tr th {\n",
       "        vertical-align: top;\n",
       "    }\n",
       "\n",
       "    .dataframe thead th {\n",
       "        text-align: right;\n",
       "    }\n",
       "</style>\n",
       "<table border=\"1\" class=\"dataframe\">\n",
       "  <thead>\n",
       "    <tr style=\"text-align: right;\">\n",
       "      <th></th>\n",
       "      <th>Payment Method: Mailed Check</th>\n",
       "      <th>percentage_pop</th>\n",
       "      <th>avg_churn_rate</th>\n",
       "    </tr>\n",
       "  </thead>\n",
       "  <tbody>\n",
       "    <tr>\n",
       "      <th>0</th>\n",
       "      <td>No</td>\n",
       "      <td>0.772</td>\n",
       "      <td>0.287583</td>\n",
       "    </tr>\n",
       "    <tr>\n",
       "      <th>1</th>\n",
       "      <td>Yes</td>\n",
       "      <td>0.228</td>\n",
       "      <td>0.192020</td>\n",
       "    </tr>\n",
       "    <tr>\n",
       "      <th>2</th>\n",
       "      <td>Overall Population</td>\n",
       "      <td>1.000</td>\n",
       "      <td>0.265785</td>\n",
       "    </tr>\n",
       "  </tbody>\n",
       "</table>\n",
       "</div>"
      ],
      "text/plain": [
       "  Payment Method: Mailed Check  percentage_pop  avg_churn_rate\n",
       "0                           No           0.772        0.287583\n",
       "1                          Yes           0.228        0.192020\n",
       "2           Overall Population           1.000        0.265785"
      ]
     },
     "execution_count": 310,
     "metadata": {},
     "output_type": "execute_result"
    }
   ],
   "source": [
    "ES_MailedCheck = data.groupby('PaymentMethod_Mailed check').agg({'PaymentMethod_Mailed check': 'count', 'Churn_Yes': 'sum'})\n",
    "ES_MailedCheck['percentage_pop'] = round((ES_MailedCheck['PaymentMethod_Mailed check'] / n_rows),3)\n",
    "ES_MailedCheck['avg_churn_rate'] = ES_MailedCheck['Churn_Yes'] / ES_MailedCheck['PaymentMethod_Mailed check'] \n",
    "ES_MailedCheck = ES_MailedCheck.drop(['PaymentMethod_Mailed check', 'Churn_Yes'], axis = 1)\n",
    "ES_MailedCheck = ES_MailedCheck.append({'percentage_pop' : sum(ES_MailedCheck['percentage_pop']),\n",
    "                                                'avg_churn_rate' : sum(data['Churn_Yes'] / n_rows)} , ignore_index=True)\n",
    "ES_MailedCheck.insert(0, 'Payment Method: Mailed Check', ['No', 'Yes', 'Overall Population'])\n",
    "ES_MailedCheck"
   ]
  },
  {
   "cell_type": "markdown",
   "metadata": {},
   "source": [
    "##### COMMENT: People with payment method other than mailed check are : Electronic Check are sligtly more likely to churn. However, they represent >70% of the population and therefore they are difficult to target"
   ]
  },
  {
   "cell_type": "markdown",
   "metadata": {},
   "source": [
    "### Create Explicative Structure table for the variable MonthlyCharges"
   ]
  },
  {
   "cell_type": "code",
   "execution_count": 311,
   "metadata": {},
   "outputs": [
    {
     "data": {
      "text/html": [
       "<div>\n",
       "<style scoped>\n",
       "    .dataframe tbody tr th:only-of-type {\n",
       "        vertical-align: middle;\n",
       "    }\n",
       "\n",
       "    .dataframe tbody tr th {\n",
       "        vertical-align: top;\n",
       "    }\n",
       "\n",
       "    .dataframe thead th {\n",
       "        text-align: right;\n",
       "    }\n",
       "</style>\n",
       "<table border=\"1\" class=\"dataframe\">\n",
       "  <thead>\n",
       "    <tr style=\"text-align: right;\">\n",
       "      <th></th>\n",
       "      <th>Montly Charges</th>\n",
       "      <th>percentage_pop</th>\n",
       "      <th>avg_churn_rate</th>\n",
       "    </tr>\n",
       "  </thead>\n",
       "  <tbody>\n",
       "    <tr>\n",
       "      <th>0</th>\n",
       "      <td>(18, 28]</td>\n",
       "      <td>0.228</td>\n",
       "      <td>0.092500</td>\n",
       "    </tr>\n",
       "    <tr>\n",
       "      <th>1</th>\n",
       "      <td>(28, 48]</td>\n",
       "      <td>0.078</td>\n",
       "      <td>0.316940</td>\n",
       "    </tr>\n",
       "    <tr>\n",
       "      <th>2</th>\n",
       "      <td>(48, 68]</td>\n",
       "      <td>0.157</td>\n",
       "      <td>0.186594</td>\n",
       "    </tr>\n",
       "    <tr>\n",
       "      <th>3</th>\n",
       "      <td>(68, 108]</td>\n",
       "      <td>0.491</td>\n",
       "      <td>0.373913</td>\n",
       "    </tr>\n",
       "    <tr>\n",
       "      <th>4</th>\n",
       "      <td>(108, 119)]</td>\n",
       "      <td>0.047</td>\n",
       "      <td>0.155015</td>\n",
       "    </tr>\n",
       "    <tr>\n",
       "      <th>5</th>\n",
       "      <td>Overall Population</td>\n",
       "      <td>1.001</td>\n",
       "      <td>0.265785</td>\n",
       "    </tr>\n",
       "  </tbody>\n",
       "</table>\n",
       "</div>"
      ],
      "text/plain": [
       "       Montly Charges  percentage_pop  avg_churn_rate\n",
       "0            (18, 28]           0.228        0.092500\n",
       "1            (28, 48]           0.078        0.316940\n",
       "2            (48, 68]           0.157        0.186594\n",
       "3           (68, 108]           0.491        0.373913\n",
       "4         (108, 119)]           0.047        0.155015\n",
       "5  Overall Population           1.001        0.265785"
      ]
     },
     "execution_count": 311,
     "metadata": {},
     "output_type": "execute_result"
    }
   ],
   "source": [
    "bin = [18, 28, 48, 68, 108, 119]\n",
    "data['MonthlyCharges_bins'] = pd.cut(data.MonthlyCharges,bin)\n",
    "ES_MonthlyCharges = data.groupby('MonthlyCharges_bins').agg({'MonthlyCharges_bins': 'count', 'Churn_Yes' : 'sum'})\n",
    "ES_MonthlyCharges['percentage_pop'] = round((ES_MonthlyCharges['MonthlyCharges_bins'] / n_rows),3)\n",
    "ES_MonthlyCharges['avg_churn_rate'] = ES_MonthlyCharges['Churn_Yes'] / ES_MonthlyCharges['MonthlyCharges_bins'] \n",
    "ES_MonthlyCharges = ES_MonthlyCharges.drop(['MonthlyCharges_bins', 'Churn_Yes'], axis = 1)\n",
    "ES_MonthlyCharges = ES_MonthlyCharges.append({'percentage_pop' : sum(ES_MonthlyCharges['percentage_pop']),\n",
    "                              'avg_churn_rate' : sum(data['Churn_Yes'] / n_rows)} , ignore_index=True)\n",
    "ES_MonthlyCharges.insert(0, 'Montly Charges', ['(18, 28]', '(28, 48]', '(48, 68]', '(68, 108]','(108, 119)]', 'Overall Population'])\n",
    "ES_MonthlyCharges"
   ]
  },
  {
   "cell_type": "markdown",
   "metadata": {},
   "source": [
    "##### COMMENT: people with monthly charges between 68 and 108 are 50% of the population and have the highest churn rate. People with monthly charges between 28 and 48 are 8% of the population and have the second highest churn rate. "
   ]
  },
  {
   "cell_type": "markdown",
   "metadata": {},
   "source": [
    "### Create Explicative Structure table for the variable TotalCharges"
   ]
  },
  {
   "cell_type": "code",
   "execution_count": 312,
   "metadata": {},
   "outputs": [
    {
     "data": {
      "text/html": [
       "<div>\n",
       "<style scoped>\n",
       "    .dataframe tbody tr th:only-of-type {\n",
       "        vertical-align: middle;\n",
       "    }\n",
       "\n",
       "    .dataframe tbody tr th {\n",
       "        vertical-align: top;\n",
       "    }\n",
       "\n",
       "    .dataframe thead th {\n",
       "        text-align: right;\n",
       "    }\n",
       "</style>\n",
       "<table border=\"1\" class=\"dataframe\">\n",
       "  <thead>\n",
       "    <tr style=\"text-align: right;\">\n",
       "      <th></th>\n",
       "      <th>Total Charges</th>\n",
       "      <th>percentage_pop</th>\n",
       "      <th>avg_churn_rate</th>\n",
       "    </tr>\n",
       "  </thead>\n",
       "  <tbody>\n",
       "    <tr>\n",
       "      <th>0</th>\n",
       "      <td>(18, 100]</td>\n",
       "      <td>0.116</td>\n",
       "      <td>0.530135</td>\n",
       "    </tr>\n",
       "    <tr>\n",
       "      <th>1</th>\n",
       "      <td>(100, 300]</td>\n",
       "      <td>0.098</td>\n",
       "      <td>0.362445</td>\n",
       "    </tr>\n",
       "    <tr>\n",
       "      <th>2</th>\n",
       "      <td>(300, 1000]</td>\n",
       "      <td>0.198</td>\n",
       "      <td>0.279971</td>\n",
       "    </tr>\n",
       "    <tr>\n",
       "      <th>3</th>\n",
       "      <td>(1000, 5000]</td>\n",
       "      <td>0.427</td>\n",
       "      <td>0.213715</td>\n",
       "    </tr>\n",
       "    <tr>\n",
       "      <th>4</th>\n",
       "      <td>(5000, 9000]</td>\n",
       "      <td>0.161</td>\n",
       "      <td>0.138326</td>\n",
       "    </tr>\n",
       "    <tr>\n",
       "      <th>5</th>\n",
       "      <td>Overall Population</td>\n",
       "      <td>1.000</td>\n",
       "      <td>0.265785</td>\n",
       "    </tr>\n",
       "  </tbody>\n",
       "</table>\n",
       "</div>"
      ],
      "text/plain": [
       "        Total Charges  percentage_pop  avg_churn_rate\n",
       "0           (18, 100]           0.116        0.530135\n",
       "1          (100, 300]           0.098        0.362445\n",
       "2         (300, 1000]           0.198        0.279971\n",
       "3        (1000, 5000]           0.427        0.213715\n",
       "4        (5000, 9000]           0.161        0.138326\n",
       "5  Overall Population           1.000        0.265785"
      ]
     },
     "execution_count": 312,
     "metadata": {},
     "output_type": "execute_result"
    }
   ],
   "source": [
    "bin = [18, 100, 300, 1000, 5000, 9000]\n",
    "data['TotalCharges_bins'] = pd.cut(data.TotalCharges,bin)\n",
    "ES_TotalCharges = data.groupby('TotalCharges_bins').agg({'TotalCharges_bins': 'count', 'Churn_Yes' : 'sum'})\n",
    "ES_TotalCharges['percentage_pop'] = round((ES_TotalCharges['TotalCharges_bins'] / n_rows),3)\n",
    "ES_TotalCharges['avg_churn_rate'] = ES_TotalCharges['Churn_Yes'] / ES_TotalCharges['TotalCharges_bins'] \n",
    "ES_TotalCharges = ES_TotalCharges.drop(['TotalCharges_bins', 'Churn_Yes'], axis = 1)\n",
    "ES_TotalCharges = ES_TotalCharges.append({'percentage_pop' : sum(ES_TotalCharges['percentage_pop']),\n",
    "                              'avg_churn_rate' : sum(data['Churn_Yes'] / n_rows)} , ignore_index=True)\n",
    "ES_TotalCharges.insert(0, 'Total Charges', ['(18, 100]', '(100, 300]', '(300, 1000]', '(1000, 5000]', '(5000, 9000]','Overall Population'])\n",
    "ES_TotalCharges"
   ]
  },
  {
   "cell_type": "markdown",
   "metadata": {},
   "source": [
    "##### COMMENT: people with total charges between 18 and 100 are 10% of the population and have the highest churn rate. People with total charges between 100 and 300 are 10% of the population and have the second highest churn rate. In general the higher the total charges the lowest the churn rate (which is logical, it means that poeple that have stayed with the company for long are less likely to churn) "
   ]
  },
  {
   "cell_type": "markdown",
   "metadata": {},
   "source": [
    "# UNIVARIATE ANALYSIS"
   ]
  },
  {
   "cell_type": "markdown",
   "metadata": {},
   "source": [
    "### Standardization"
   ]
  },
  {
   "cell_type": "code",
   "execution_count": 313,
   "metadata": {
    "scrolled": true
   },
   "outputs": [],
   "source": [
    "#data = StandardScaler().fit_transform(data.iloc[1:, 1:].values)"
   ]
  },
  {
   "cell_type": "markdown",
   "metadata": {},
   "source": [
    "### measure of location and spread"
   ]
  },
  {
   "cell_type": "code",
   "execution_count": 314,
   "metadata": {
    "scrolled": true
   },
   "outputs": [
    {
     "data": {
      "text/html": [
       "<div>\n",
       "<style scoped>\n",
       "    .dataframe tbody tr th:only-of-type {\n",
       "        vertical-align: middle;\n",
       "    }\n",
       "\n",
       "    .dataframe tbody tr th {\n",
       "        vertical-align: top;\n",
       "    }\n",
       "\n",
       "    .dataframe thead th {\n",
       "        text-align: right;\n",
       "    }\n",
       "</style>\n",
       "<table border=\"1\" class=\"dataframe\">\n",
       "  <thead>\n",
       "    <tr style=\"text-align: right;\">\n",
       "      <th></th>\n",
       "      <th>SeniorCitizen_Yes</th>\n",
       "      <th>tenure</th>\n",
       "      <th>MonthlyCharges</th>\n",
       "      <th>TotalCharges</th>\n",
       "      <th>gender_Male</th>\n",
       "      <th>Partner_Yes</th>\n",
       "      <th>Dependents_Yes</th>\n",
       "      <th>PhoneService_Yes</th>\n",
       "      <th>PaperlessBilling_Yes</th>\n",
       "      <th>Churn_Yes</th>\n",
       "      <th>...</th>\n",
       "      <th>TechSupport_Yes</th>\n",
       "      <th>StreamingTV_Yes</th>\n",
       "      <th>StreamingMovies_Yes</th>\n",
       "      <th>InternetService_DSL</th>\n",
       "      <th>InternetService_Fiber optic</th>\n",
       "      <th>Contract_Month-to-month</th>\n",
       "      <th>Contract_One year</th>\n",
       "      <th>PaymentMethod_Credit card (automatic)</th>\n",
       "      <th>PaymentMethod_Electronic check</th>\n",
       "      <th>PaymentMethod_Mailed check</th>\n",
       "    </tr>\n",
       "  </thead>\n",
       "  <tbody>\n",
       "    <tr>\n",
       "      <th>count</th>\n",
       "      <td>7032.000000</td>\n",
       "      <td>7032.000000</td>\n",
       "      <td>7032.000000</td>\n",
       "      <td>7032.000000</td>\n",
       "      <td>7032.000000</td>\n",
       "      <td>7032.000000</td>\n",
       "      <td>7032.000000</td>\n",
       "      <td>7032.000000</td>\n",
       "      <td>7032.000000</td>\n",
       "      <td>7032.000000</td>\n",
       "      <td>...</td>\n",
       "      <td>7032.000000</td>\n",
       "      <td>7032.000000</td>\n",
       "      <td>7032.000000</td>\n",
       "      <td>7032.000000</td>\n",
       "      <td>7032.000000</td>\n",
       "      <td>7032.000000</td>\n",
       "      <td>7032.000000</td>\n",
       "      <td>7032.000000</td>\n",
       "      <td>7032.000000</td>\n",
       "      <td>7032.000000</td>\n",
       "    </tr>\n",
       "    <tr>\n",
       "      <th>mean</th>\n",
       "      <td>0.162400</td>\n",
       "      <td>32.421786</td>\n",
       "      <td>64.798208</td>\n",
       "      <td>2283.300441</td>\n",
       "      <td>0.504693</td>\n",
       "      <td>0.482509</td>\n",
       "      <td>0.298493</td>\n",
       "      <td>0.903299</td>\n",
       "      <td>0.592719</td>\n",
       "      <td>0.265785</td>\n",
       "      <td>...</td>\n",
       "      <td>0.290102</td>\n",
       "      <td>0.384386</td>\n",
       "      <td>0.388367</td>\n",
       "      <td>0.343572</td>\n",
       "      <td>0.440273</td>\n",
       "      <td>0.551052</td>\n",
       "      <td>0.209329</td>\n",
       "      <td>0.216297</td>\n",
       "      <td>0.336320</td>\n",
       "      <td>0.228100</td>\n",
       "    </tr>\n",
       "    <tr>\n",
       "      <th>std</th>\n",
       "      <td>0.368844</td>\n",
       "      <td>24.545260</td>\n",
       "      <td>30.085974</td>\n",
       "      <td>2266.771362</td>\n",
       "      <td>0.500014</td>\n",
       "      <td>0.499729</td>\n",
       "      <td>0.457629</td>\n",
       "      <td>0.295571</td>\n",
       "      <td>0.491363</td>\n",
       "      <td>0.441782</td>\n",
       "      <td>...</td>\n",
       "      <td>0.453842</td>\n",
       "      <td>0.486484</td>\n",
       "      <td>0.487414</td>\n",
       "      <td>0.474934</td>\n",
       "      <td>0.496455</td>\n",
       "      <td>0.497422</td>\n",
       "      <td>0.406858</td>\n",
       "      <td>0.411748</td>\n",
       "      <td>0.472483</td>\n",
       "      <td>0.419637</td>\n",
       "    </tr>\n",
       "    <tr>\n",
       "      <th>min</th>\n",
       "      <td>0.000000</td>\n",
       "      <td>1.000000</td>\n",
       "      <td>18.250000</td>\n",
       "      <td>18.800000</td>\n",
       "      <td>0.000000</td>\n",
       "      <td>0.000000</td>\n",
       "      <td>0.000000</td>\n",
       "      <td>0.000000</td>\n",
       "      <td>0.000000</td>\n",
       "      <td>0.000000</td>\n",
       "      <td>...</td>\n",
       "      <td>0.000000</td>\n",
       "      <td>0.000000</td>\n",
       "      <td>0.000000</td>\n",
       "      <td>0.000000</td>\n",
       "      <td>0.000000</td>\n",
       "      <td>0.000000</td>\n",
       "      <td>0.000000</td>\n",
       "      <td>0.000000</td>\n",
       "      <td>0.000000</td>\n",
       "      <td>0.000000</td>\n",
       "    </tr>\n",
       "    <tr>\n",
       "      <th>25%</th>\n",
       "      <td>0.000000</td>\n",
       "      <td>9.000000</td>\n",
       "      <td>35.587500</td>\n",
       "      <td>401.450000</td>\n",
       "      <td>0.000000</td>\n",
       "      <td>0.000000</td>\n",
       "      <td>0.000000</td>\n",
       "      <td>1.000000</td>\n",
       "      <td>0.000000</td>\n",
       "      <td>0.000000</td>\n",
       "      <td>...</td>\n",
       "      <td>0.000000</td>\n",
       "      <td>0.000000</td>\n",
       "      <td>0.000000</td>\n",
       "      <td>0.000000</td>\n",
       "      <td>0.000000</td>\n",
       "      <td>0.000000</td>\n",
       "      <td>0.000000</td>\n",
       "      <td>0.000000</td>\n",
       "      <td>0.000000</td>\n",
       "      <td>0.000000</td>\n",
       "    </tr>\n",
       "    <tr>\n",
       "      <th>50%</th>\n",
       "      <td>0.000000</td>\n",
       "      <td>29.000000</td>\n",
       "      <td>70.350000</td>\n",
       "      <td>1397.475000</td>\n",
       "      <td>1.000000</td>\n",
       "      <td>0.000000</td>\n",
       "      <td>0.000000</td>\n",
       "      <td>1.000000</td>\n",
       "      <td>1.000000</td>\n",
       "      <td>0.000000</td>\n",
       "      <td>...</td>\n",
       "      <td>0.000000</td>\n",
       "      <td>0.000000</td>\n",
       "      <td>0.000000</td>\n",
       "      <td>0.000000</td>\n",
       "      <td>0.000000</td>\n",
       "      <td>1.000000</td>\n",
       "      <td>0.000000</td>\n",
       "      <td>0.000000</td>\n",
       "      <td>0.000000</td>\n",
       "      <td>0.000000</td>\n",
       "    </tr>\n",
       "    <tr>\n",
       "      <th>75%</th>\n",
       "      <td>0.000000</td>\n",
       "      <td>55.000000</td>\n",
       "      <td>89.862500</td>\n",
       "      <td>3794.737500</td>\n",
       "      <td>1.000000</td>\n",
       "      <td>1.000000</td>\n",
       "      <td>1.000000</td>\n",
       "      <td>1.000000</td>\n",
       "      <td>1.000000</td>\n",
       "      <td>1.000000</td>\n",
       "      <td>...</td>\n",
       "      <td>1.000000</td>\n",
       "      <td>1.000000</td>\n",
       "      <td>1.000000</td>\n",
       "      <td>1.000000</td>\n",
       "      <td>1.000000</td>\n",
       "      <td>1.000000</td>\n",
       "      <td>0.000000</td>\n",
       "      <td>0.000000</td>\n",
       "      <td>1.000000</td>\n",
       "      <td>0.000000</td>\n",
       "    </tr>\n",
       "    <tr>\n",
       "      <th>max</th>\n",
       "      <td>1.000000</td>\n",
       "      <td>72.000000</td>\n",
       "      <td>118.750000</td>\n",
       "      <td>8684.800000</td>\n",
       "      <td>1.000000</td>\n",
       "      <td>1.000000</td>\n",
       "      <td>1.000000</td>\n",
       "      <td>1.000000</td>\n",
       "      <td>1.000000</td>\n",
       "      <td>1.000000</td>\n",
       "      <td>...</td>\n",
       "      <td>1.000000</td>\n",
       "      <td>1.000000</td>\n",
       "      <td>1.000000</td>\n",
       "      <td>1.000000</td>\n",
       "      <td>1.000000</td>\n",
       "      <td>1.000000</td>\n",
       "      <td>1.000000</td>\n",
       "      <td>1.000000</td>\n",
       "      <td>1.000000</td>\n",
       "      <td>1.000000</td>\n",
       "    </tr>\n",
       "  </tbody>\n",
       "</table>\n",
       "<p>8 rows × 24 columns</p>\n",
       "</div>"
      ],
      "text/plain": [
       "       SeniorCitizen_Yes       tenure  MonthlyCharges  TotalCharges  \\\n",
       "count        7032.000000  7032.000000     7032.000000   7032.000000   \n",
       "mean            0.162400    32.421786       64.798208   2283.300441   \n",
       "std             0.368844    24.545260       30.085974   2266.771362   \n",
       "min             0.000000     1.000000       18.250000     18.800000   \n",
       "25%             0.000000     9.000000       35.587500    401.450000   \n",
       "50%             0.000000    29.000000       70.350000   1397.475000   \n",
       "75%             0.000000    55.000000       89.862500   3794.737500   \n",
       "max             1.000000    72.000000      118.750000   8684.800000   \n",
       "\n",
       "       gender_Male  Partner_Yes  Dependents_Yes  PhoneService_Yes  \\\n",
       "count  7032.000000  7032.000000     7032.000000       7032.000000   \n",
       "mean      0.504693     0.482509        0.298493          0.903299   \n",
       "std       0.500014     0.499729        0.457629          0.295571   \n",
       "min       0.000000     0.000000        0.000000          0.000000   \n",
       "25%       0.000000     0.000000        0.000000          1.000000   \n",
       "50%       1.000000     0.000000        0.000000          1.000000   \n",
       "75%       1.000000     1.000000        1.000000          1.000000   \n",
       "max       1.000000     1.000000        1.000000          1.000000   \n",
       "\n",
       "       PaperlessBilling_Yes    Churn_Yes             ...              \\\n",
       "count           7032.000000  7032.000000             ...               \n",
       "mean               0.592719     0.265785             ...               \n",
       "std                0.491363     0.441782             ...               \n",
       "min                0.000000     0.000000             ...               \n",
       "25%                0.000000     0.000000             ...               \n",
       "50%                1.000000     0.000000             ...               \n",
       "75%                1.000000     1.000000             ...               \n",
       "max                1.000000     1.000000             ...               \n",
       "\n",
       "       TechSupport_Yes  StreamingTV_Yes  StreamingMovies_Yes  \\\n",
       "count      7032.000000      7032.000000          7032.000000   \n",
       "mean          0.290102         0.384386             0.388367   \n",
       "std           0.453842         0.486484             0.487414   \n",
       "min           0.000000         0.000000             0.000000   \n",
       "25%           0.000000         0.000000             0.000000   \n",
       "50%           0.000000         0.000000             0.000000   \n",
       "75%           1.000000         1.000000             1.000000   \n",
       "max           1.000000         1.000000             1.000000   \n",
       "\n",
       "       InternetService_DSL  InternetService_Fiber optic  \\\n",
       "count          7032.000000                  7032.000000   \n",
       "mean              0.343572                     0.440273   \n",
       "std               0.474934                     0.496455   \n",
       "min               0.000000                     0.000000   \n",
       "25%               0.000000                     0.000000   \n",
       "50%               0.000000                     0.000000   \n",
       "75%               1.000000                     1.000000   \n",
       "max               1.000000                     1.000000   \n",
       "\n",
       "       Contract_Month-to-month  Contract_One year  \\\n",
       "count              7032.000000        7032.000000   \n",
       "mean                  0.551052           0.209329   \n",
       "std                   0.497422           0.406858   \n",
       "min                   0.000000           0.000000   \n",
       "25%                   0.000000           0.000000   \n",
       "50%                   1.000000           0.000000   \n",
       "75%                   1.000000           0.000000   \n",
       "max                   1.000000           1.000000   \n",
       "\n",
       "       PaymentMethod_Credit card (automatic)  PaymentMethod_Electronic check  \\\n",
       "count                            7032.000000                     7032.000000   \n",
       "mean                                0.216297                        0.336320   \n",
       "std                                 0.411748                        0.472483   \n",
       "min                                 0.000000                        0.000000   \n",
       "25%                                 0.000000                        0.000000   \n",
       "50%                                 0.000000                        0.000000   \n",
       "75%                                 0.000000                        1.000000   \n",
       "max                                 1.000000                        1.000000   \n",
       "\n",
       "       PaymentMethod_Mailed check  \n",
       "count                 7032.000000  \n",
       "mean                     0.228100  \n",
       "std                      0.419637  \n",
       "min                      0.000000  \n",
       "25%                      0.000000  \n",
       "50%                      0.000000  \n",
       "75%                      0.000000  \n",
       "max                      1.000000  \n",
       "\n",
       "[8 rows x 24 columns]"
      ]
     },
     "execution_count": 314,
     "metadata": {},
     "output_type": "execute_result"
    }
   ],
   "source": [
    "data.describe()"
   ]
  },
  {
   "cell_type": "markdown",
   "metadata": {},
   "source": [
    "### Measure of frequency"
   ]
  },
  {
   "cell_type": "code",
   "execution_count": 315,
   "metadata": {
    "scrolled": true
   },
   "outputs": [
    {
     "data": {
      "text/plain": [
       "<Figure size 432x288 with 0 Axes>"
      ]
     },
     "metadata": {},
     "output_type": "display_data"
    },
    {
     "data": {
      "image/png": "[encoded data removed]",
      "text/plain": [
       "<Figure size 720x1080 with 21 Axes>"
      ]
     },
     "metadata": {},
     "output_type": "display_data"
    }
   ],
   "source": [
    "plt.subplots_adjust(wspace=2,hspace=2)\n",
    "plt.figure(figsize=(10,15))\n",
    "store = 0\n",
    "\n",
    "for i in range(len(data.columns)-3):    \n",
    "    if i == 0 | i > 4:\n",
    "            size = data[data.columns[i]].value_counts()\n",
    "            plt.subplot(7,3,i-4)\n",
    "            plt.pie(size, labels=[\"no\", \"yes\"], shadow = True, autopct='%1.0f%%')\n",
    "            plt.title(data.columns[i])\n",
    "            store = i\n",
    "size = data[\"SeniorCitizen_Yes\"].value_counts()\n",
    "plt.subplot(7,3,store -3)\n",
    "plt.pie(size, labels=[\"no\", \"yes\"], shadow = True, autopct='%1.0f%%')\n",
    "plt.title(\"SeniorCitizen_Yes\")\n",
    "\n",
    "\n",
    "plt.show()    "
   ]
  },
  {
   "cell_type": "code",
   "execution_count": 316,
   "metadata": {},
   "outputs": [
    {
     "data": {
      "image/png": "[encoded data removed]",
      "text/plain": [
       "<Figure size 432x288 with 1 Axes>"
      ]
     },
     "metadata": {},
     "output_type": "display_data"
    },
    {
     "data": {
      "image/png": "[encoded data removed]",
      "text/plain": [
       "<Figure size 432x288 with 1 Axes>"
      ]
     },
     "metadata": {},
     "output_type": "display_data"
    },
    {
     "data": {
      "image/png": "[encoded data removed]",
      "text/plain": [
       "<Figure size 432x288 with 1 Axes>"
      ]
     },
     "metadata": {},
     "output_type": "display_data"
    }
   ],
   "source": [
    "#fig, axs = plt.subplots(3,1)\n",
    "plt.hist(data[\"MonthlyCharges\"])\n",
    "plt.title(\"Monthly Charges\")\n",
    "plt.show()\n",
    "plt.hist(data[\"TotalCharges\"])\n",
    "plt.title(\"Total Charges\")\n",
    "plt.show()\n",
    "plt.hist(data[\"tenure\"])\n",
    "plt.title(\"Tenure\")\n",
    "plt.show()"
   ]
  },
  {
   "cell_type": "markdown",
   "metadata": {},
   "source": [
    "### Find outliers"
   ]
  },
  {
   "cell_type": "code",
   "execution_count": 317,
   "metadata": {
    "scrolled": true
   },
   "outputs": [
    {
     "data": {
      "image/png": "[encoded data removed]",
      "text/plain": [
       "<Figure size 432x288 with 1 Axes>"
      ]
     },
     "metadata": {},
     "output_type": "display_data"
    },
    {
     "data": {
      "image/png": "[encoded data removed]",
      "text/plain": [
       "<Figure size 432x288 with 1 Axes>"
      ]
     },
     "metadata": {},
     "output_type": "display_data"
    },
    {
     "data": {
      "image/png": "[encoded data removed]",
      "text/plain": [
       "<Figure size 432x288 with 1 Axes>"
      ]
     },
     "metadata": {},
     "output_type": "display_data"
    }
   ],
   "source": [
    "sns.boxplot(data[\"MonthlyCharges\"]) \n",
    "plt.show()\n",
    "sns.boxplot(data[\"TotalCharges\"]) \n",
    "plt.show()\n",
    "sns.boxplot(data[\"tenure\"]) \n",
    "plt.show()"
   ]
  },
  {
   "cell_type": "raw",
   "metadata": {},
   "source": [
    "TotalCharges has obviously some outliers which we need to take care of."
   ]
  },
  {
   "cell_type": "code",
   "execution_count": 318,
   "metadata": {},
   "outputs": [
    {
     "data": {
      "text/html": [
       "<div>\n",
       "<style scoped>\n",
       "    .dataframe tbody tr th:only-of-type {\n",
       "        vertical-align: middle;\n",
       "    }\n",
       "\n",
       "    .dataframe tbody tr th {\n",
       "        vertical-align: top;\n",
       "    }\n",
       "\n",
       "    .dataframe thead th {\n",
       "        text-align: right;\n",
       "    }\n",
       "</style>\n",
       "<table border=\"1\" class=\"dataframe\">\n",
       "  <thead>\n",
       "    <tr style=\"text-align: right;\">\n",
       "      <th></th>\n",
       "      <th>customerID</th>\n",
       "      <th>SeniorCitizen_Yes</th>\n",
       "      <th>tenure</th>\n",
       "      <th>MonthlyCharges</th>\n",
       "      <th>TotalCharges</th>\n",
       "      <th>gender_Male</th>\n",
       "      <th>Partner_Yes</th>\n",
       "      <th>Dependents_Yes</th>\n",
       "      <th>PhoneService_Yes</th>\n",
       "      <th>PaperlessBilling_Yes</th>\n",
       "      <th>...</th>\n",
       "      <th>InternetService_DSL</th>\n",
       "      <th>InternetService_Fiber optic</th>\n",
       "      <th>Contract_Month-to-month</th>\n",
       "      <th>Contract_One year</th>\n",
       "      <th>PaymentMethod_Credit card (automatic)</th>\n",
       "      <th>PaymentMethod_Electronic check</th>\n",
       "      <th>PaymentMethod_Mailed check</th>\n",
       "      <th>tenure_bins</th>\n",
       "      <th>MonthlyCharges_bins</th>\n",
       "      <th>TotalCharges_bins</th>\n",
       "    </tr>\n",
       "  </thead>\n",
       "  <tbody>\n",
       "    <tr>\n",
       "      <th>0</th>\n",
       "      <td>7590-VHVEG</td>\n",
       "      <td>0</td>\n",
       "      <td>1</td>\n",
       "      <td>29.85</td>\n",
       "      <td>29.85</td>\n",
       "      <td>0</td>\n",
       "      <td>1</td>\n",
       "      <td>0</td>\n",
       "      <td>0</td>\n",
       "      <td>1</td>\n",
       "      <td>...</td>\n",
       "      <td>1</td>\n",
       "      <td>0</td>\n",
       "      <td>1</td>\n",
       "      <td>0</td>\n",
       "      <td>0</td>\n",
       "      <td>1</td>\n",
       "      <td>0</td>\n",
       "      <td>(0, 3]</td>\n",
       "      <td>(28, 48]</td>\n",
       "      <td>(18, 100]</td>\n",
       "    </tr>\n",
       "    <tr>\n",
       "      <th>1</th>\n",
       "      <td>5575-GNVDE</td>\n",
       "      <td>0</td>\n",
       "      <td>34</td>\n",
       "      <td>56.95</td>\n",
       "      <td>1889.50</td>\n",
       "      <td>1</td>\n",
       "      <td>0</td>\n",
       "      <td>0</td>\n",
       "      <td>1</td>\n",
       "      <td>0</td>\n",
       "      <td>...</td>\n",
       "      <td>1</td>\n",
       "      <td>0</td>\n",
       "      <td>0</td>\n",
       "      <td>1</td>\n",
       "      <td>0</td>\n",
       "      <td>0</td>\n",
       "      <td>1</td>\n",
       "      <td>(20, 35]</td>\n",
       "      <td>(48, 68]</td>\n",
       "      <td>(1000, 5000]</td>\n",
       "    </tr>\n",
       "    <tr>\n",
       "      <th>2</th>\n",
       "      <td>3668-QPYBK</td>\n",
       "      <td>0</td>\n",
       "      <td>2</td>\n",
       "      <td>53.85</td>\n",
       "      <td>108.15</td>\n",
       "      <td>1</td>\n",
       "      <td>0</td>\n",
       "      <td>0</td>\n",
       "      <td>1</td>\n",
       "      <td>1</td>\n",
       "      <td>...</td>\n",
       "      <td>1</td>\n",
       "      <td>0</td>\n",
       "      <td>1</td>\n",
       "      <td>0</td>\n",
       "      <td>0</td>\n",
       "      <td>0</td>\n",
       "      <td>1</td>\n",
       "      <td>(0, 3]</td>\n",
       "      <td>(48, 68]</td>\n",
       "      <td>(100, 300]</td>\n",
       "    </tr>\n",
       "    <tr>\n",
       "      <th>3</th>\n",
       "      <td>7795-CFOCW</td>\n",
       "      <td>0</td>\n",
       "      <td>45</td>\n",
       "      <td>42.30</td>\n",
       "      <td>1840.75</td>\n",
       "      <td>1</td>\n",
       "      <td>0</td>\n",
       "      <td>0</td>\n",
       "      <td>0</td>\n",
       "      <td>0</td>\n",
       "      <td>...</td>\n",
       "      <td>1</td>\n",
       "      <td>0</td>\n",
       "      <td>0</td>\n",
       "      <td>1</td>\n",
       "      <td>0</td>\n",
       "      <td>0</td>\n",
       "      <td>0</td>\n",
       "      <td>(35, 50]</td>\n",
       "      <td>(28, 48]</td>\n",
       "      <td>(1000, 5000]</td>\n",
       "    </tr>\n",
       "    <tr>\n",
       "      <th>4</th>\n",
       "      <td>9237-HQITU</td>\n",
       "      <td>0</td>\n",
       "      <td>2</td>\n",
       "      <td>70.70</td>\n",
       "      <td>151.65</td>\n",
       "      <td>0</td>\n",
       "      <td>0</td>\n",
       "      <td>0</td>\n",
       "      <td>1</td>\n",
       "      <td>1</td>\n",
       "      <td>...</td>\n",
       "      <td>0</td>\n",
       "      <td>1</td>\n",
       "      <td>1</td>\n",
       "      <td>0</td>\n",
       "      <td>0</td>\n",
       "      <td>1</td>\n",
       "      <td>0</td>\n",
       "      <td>(0, 3]</td>\n",
       "      <td>(68, 108]</td>\n",
       "      <td>(100, 300]</td>\n",
       "    </tr>\n",
       "  </tbody>\n",
       "</table>\n",
       "<p>5 rows × 28 columns</p>\n",
       "</div>"
      ],
      "text/plain": [
       "   customerID  SeniorCitizen_Yes  tenure  MonthlyCharges  TotalCharges  \\\n",
       "0  7590-VHVEG                  0       1           29.85         29.85   \n",
       "1  5575-GNVDE                  0      34           56.95       1889.50   \n",
       "2  3668-QPYBK                  0       2           53.85        108.15   \n",
       "3  7795-CFOCW                  0      45           42.30       1840.75   \n",
       "4  9237-HQITU                  0       2           70.70        151.65   \n",
       "\n",
       "   gender_Male  Partner_Yes  Dependents_Yes  PhoneService_Yes  \\\n",
       "0            0            1               0                 0   \n",
       "1            1            0               0                 1   \n",
       "2            1            0               0                 1   \n",
       "3            1            0               0                 0   \n",
       "4            0            0               0                 1   \n",
       "\n",
       "   PaperlessBilling_Yes        ...          InternetService_DSL  \\\n",
       "0                     1        ...                            1   \n",
       "1                     0        ...                            1   \n",
       "2                     1        ...                            1   \n",
       "3                     0        ...                            1   \n",
       "4                     1        ...                            0   \n",
       "\n",
       "   InternetService_Fiber optic  Contract_Month-to-month  Contract_One year  \\\n",
       "0                            0                        1                  0   \n",
       "1                            0                        0                  1   \n",
       "2                            0                        1                  0   \n",
       "3                            0                        0                  1   \n",
       "4                            1                        1                  0   \n",
       "\n",
       "   PaymentMethod_Credit card (automatic)  PaymentMethod_Electronic check  \\\n",
       "0                                      0                               1   \n",
       "1                                      0                               0   \n",
       "2                                      0                               0   \n",
       "3                                      0                               0   \n",
       "4                                      0                               1   \n",
       "\n",
       "   PaymentMethod_Mailed check  tenure_bins  MonthlyCharges_bins  \\\n",
       "0                           0       (0, 3]             (28, 48]   \n",
       "1                           1     (20, 35]             (48, 68]   \n",
       "2                           1       (0, 3]             (48, 68]   \n",
       "3                           0     (35, 50]             (28, 48]   \n",
       "4                           0       (0, 3]            (68, 108]   \n",
       "\n",
       "   TotalCharges_bins  \n",
       "0          (18, 100]  \n",
       "1       (1000, 5000]  \n",
       "2         (100, 300]  \n",
       "3       (1000, 5000]  \n",
       "4         (100, 300]  \n",
       "\n",
       "[5 rows x 28 columns]"
      ]
     },
     "execution_count": 318,
     "metadata": {},
     "output_type": "execute_result"
    }
   ],
   "source": [
    "data.head()"
   ]
  },
  {
   "cell_type": "code",
   "execution_count": 346,
   "metadata": {},
   "outputs": [
    {
     "name": "stdout",
     "output_type": "stream",
     "text": [
      "3393.2875000000004\n"
     ]
    }
   ],
   "source": [
    "#total charge\n",
    "Q1 = data.TotalCharges.quantile(0.25)\n",
    "Q3 = data.TotalCharges.quantile(0.75)\n",
    "IQR = Q3 - Q1\n",
    "print(IQR)"
   ]
  },
  {
   "cell_type": "code",
   "execution_count": 320,
   "metadata": {},
   "outputs": [
    {
     "name": "stdout",
     "output_type": "stream",
     "text": [
      "7032\n",
      "7032\n"
     ]
    }
   ],
   "source": [
    "filter_TC = data.query('(@Q1 - 1.5 * @IQR) <= TotalCharges <= (@Q3 + 1.5 * @IQR)')\n",
    "print(len(filter_TC))\n",
    "print(len(data))"
   ]
  },
  {
   "cell_type": "code",
   "execution_count": 321,
   "metadata": {
    "scrolled": true
   },
   "outputs": [
    {
     "name": "stdout",
     "output_type": "stream",
     "text": [
      "54.27499999999998\n"
     ]
    }
   ],
   "source": [
    "#monthly charge\n",
    "Q1 = data.MonthlyCharges.quantile(0.25)\n",
    "Q3 = data.MonthlyCharges.quantile(0.75)\n",
    "IQR = Q3 - Q1\n",
    "print(IQR)"
   ]
  },
  {
   "cell_type": "code",
   "execution_count": 322,
   "metadata": {},
   "outputs": [
    {
     "name": "stdout",
     "output_type": "stream",
     "text": [
      "7032\n",
      "7032\n"
     ]
    }
   ],
   "source": [
    "filter_MC = filter_TC.query('(@Q1 - 1.5 * @IQR) <= MonthlyCharges <= (@Q3 + 1.5 * @IQR)')\n",
    "print(len(filter_MC))\n",
    "print(len(filter_TC))\n"
   ]
  },
  {
   "cell_type": "code",
   "execution_count": 323,
   "metadata": {},
   "outputs": [
    {
     "name": "stdout",
     "output_type": "stream",
     "text": [
      "46.0\n"
     ]
    }
   ],
   "source": [
    "#tenures\n",
    "Q1 = data.tenure.quantile(0.25)\n",
    "Q3 = data.tenure.quantile(0.75)\n",
    "IQR = Q3 - Q1\n",
    "print(IQR)"
   ]
  },
  {
   "cell_type": "code",
   "execution_count": 332,
   "metadata": {},
   "outputs": [
    {
     "name": "stdout",
     "output_type": "stream",
     "text": [
      "7032\n",
      "7032\n"
     ]
    }
   ],
   "source": [
    "data_out = filter_MC.query('(@Q1 - 1.5 * @IQR) <= tenure <= (@Q3 + 1.5 * @IQR)')\n",
    "print(len(data_out))\n",
    "print(len(filter_MC))\n"
   ]
  },
  {
   "cell_type": "markdown",
   "metadata": {},
   "source": [
    "## Univariate Analysis after removing the outliers"
   ]
  },
  {
   "cell_type": "raw",
   "metadata": {},
   "source": [
    "here we just need to copy paste the code above, but using the new dataframe (data_out)"
   ]
  },
  {
   "cell_type": "markdown",
   "metadata": {},
   "source": [
    "### measure of location and spread"
   ]
  },
  {
   "cell_type": "code",
   "execution_count": 333,
   "metadata": {},
   "outputs": [
    {
     "data": {
      "text/html": [
       "<div>\n",
       "<style scoped>\n",
       "    .dataframe tbody tr th:only-of-type {\n",
       "        vertical-align: middle;\n",
       "    }\n",
       "\n",
       "    .dataframe tbody tr th {\n",
       "        vertical-align: top;\n",
       "    }\n",
       "\n",
       "    .dataframe thead th {\n",
       "        text-align: right;\n",
       "    }\n",
       "</style>\n",
       "<table border=\"1\" class=\"dataframe\">\n",
       "  <thead>\n",
       "    <tr style=\"text-align: right;\">\n",
       "      <th></th>\n",
       "      <th>SeniorCitizen_Yes</th>\n",
       "      <th>tenure</th>\n",
       "      <th>MonthlyCharges</th>\n",
       "      <th>TotalCharges</th>\n",
       "      <th>gender_Male</th>\n",
       "      <th>Partner_Yes</th>\n",
       "      <th>Dependents_Yes</th>\n",
       "      <th>PhoneService_Yes</th>\n",
       "      <th>PaperlessBilling_Yes</th>\n",
       "      <th>Churn_Yes</th>\n",
       "      <th>...</th>\n",
       "      <th>TechSupport_Yes</th>\n",
       "      <th>StreamingTV_Yes</th>\n",
       "      <th>StreamingMovies_Yes</th>\n",
       "      <th>InternetService_DSL</th>\n",
       "      <th>InternetService_Fiber optic</th>\n",
       "      <th>Contract_Month-to-month</th>\n",
       "      <th>Contract_One year</th>\n",
       "      <th>PaymentMethod_Credit card (automatic)</th>\n",
       "      <th>PaymentMethod_Electronic check</th>\n",
       "      <th>PaymentMethod_Mailed check</th>\n",
       "    </tr>\n",
       "  </thead>\n",
       "  <tbody>\n",
       "    <tr>\n",
       "      <th>count</th>\n",
       "      <td>7032.000000</td>\n",
       "      <td>7032.000000</td>\n",
       "      <td>7032.000000</td>\n",
       "      <td>7032.000000</td>\n",
       "      <td>7032.000000</td>\n",
       "      <td>7032.000000</td>\n",
       "      <td>7032.000000</td>\n",
       "      <td>7032.000000</td>\n",
       "      <td>7032.000000</td>\n",
       "      <td>7032.000000</td>\n",
       "      <td>...</td>\n",
       "      <td>7032.000000</td>\n",
       "      <td>7032.000000</td>\n",
       "      <td>7032.000000</td>\n",
       "      <td>7032.000000</td>\n",
       "      <td>7032.000000</td>\n",
       "      <td>7032.000000</td>\n",
       "      <td>7032.000000</td>\n",
       "      <td>7032.000000</td>\n",
       "      <td>7032.000000</td>\n",
       "      <td>7032.000000</td>\n",
       "    </tr>\n",
       "    <tr>\n",
       "      <th>mean</th>\n",
       "      <td>0.162400</td>\n",
       "      <td>32.421786</td>\n",
       "      <td>64.798208</td>\n",
       "      <td>2283.300441</td>\n",
       "      <td>0.504693</td>\n",
       "      <td>0.482509</td>\n",
       "      <td>0.298493</td>\n",
       "      <td>0.903299</td>\n",
       "      <td>0.592719</td>\n",
       "      <td>0.265785</td>\n",
       "      <td>...</td>\n",
       "      <td>0.290102</td>\n",
       "      <td>0.384386</td>\n",
       "      <td>0.388367</td>\n",
       "      <td>0.343572</td>\n",
       "      <td>0.440273</td>\n",
       "      <td>0.551052</td>\n",
       "      <td>0.209329</td>\n",
       "      <td>0.216297</td>\n",
       "      <td>0.336320</td>\n",
       "      <td>0.228100</td>\n",
       "    </tr>\n",
       "    <tr>\n",
       "      <th>std</th>\n",
       "      <td>0.368844</td>\n",
       "      <td>24.545260</td>\n",
       "      <td>30.085974</td>\n",
       "      <td>2266.771362</td>\n",
       "      <td>0.500014</td>\n",
       "      <td>0.499729</td>\n",
       "      <td>0.457629</td>\n",
       "      <td>0.295571</td>\n",
       "      <td>0.491363</td>\n",
       "      <td>0.441782</td>\n",
       "      <td>...</td>\n",
       "      <td>0.453842</td>\n",
       "      <td>0.486484</td>\n",
       "      <td>0.487414</td>\n",
       "      <td>0.474934</td>\n",
       "      <td>0.496455</td>\n",
       "      <td>0.497422</td>\n",
       "      <td>0.406858</td>\n",
       "      <td>0.411748</td>\n",
       "      <td>0.472483</td>\n",
       "      <td>0.419637</td>\n",
       "    </tr>\n",
       "    <tr>\n",
       "      <th>min</th>\n",
       "      <td>0.000000</td>\n",
       "      <td>1.000000</td>\n",
       "      <td>18.250000</td>\n",
       "      <td>18.800000</td>\n",
       "      <td>0.000000</td>\n",
       "      <td>0.000000</td>\n",
       "      <td>0.000000</td>\n",
       "      <td>0.000000</td>\n",
       "      <td>0.000000</td>\n",
       "      <td>0.000000</td>\n",
       "      <td>...</td>\n",
       "      <td>0.000000</td>\n",
       "      <td>0.000000</td>\n",
       "      <td>0.000000</td>\n",
       "      <td>0.000000</td>\n",
       "      <td>0.000000</td>\n",
       "      <td>0.000000</td>\n",
       "      <td>0.000000</td>\n",
       "      <td>0.000000</td>\n",
       "      <td>0.000000</td>\n",
       "      <td>0.000000</td>\n",
       "    </tr>\n",
       "    <tr>\n",
       "      <th>25%</th>\n",
       "      <td>0.000000</td>\n",
       "      <td>9.000000</td>\n",
       "      <td>35.587500</td>\n",
       "      <td>401.450000</td>\n",
       "      <td>0.000000</td>\n",
       "      <td>0.000000</td>\n",
       "      <td>0.000000</td>\n",
       "      <td>1.000000</td>\n",
       "      <td>0.000000</td>\n",
       "      <td>0.000000</td>\n",
       "      <td>...</td>\n",
       "      <td>0.000000</td>\n",
       "      <td>0.000000</td>\n",
       "      <td>0.000000</td>\n",
       "      <td>0.000000</td>\n",
       "      <td>0.000000</td>\n",
       "      <td>0.000000</td>\n",
       "      <td>0.000000</td>\n",
       "      <td>0.000000</td>\n",
       "      <td>0.000000</td>\n",
       "      <td>0.000000</td>\n",
       "    </tr>\n",
       "    <tr>\n",
       "      <th>50%</th>\n",
       "      <td>0.000000</td>\n",
       "      <td>29.000000</td>\n",
       "      <td>70.350000</td>\n",
       "      <td>1397.475000</td>\n",
       "      <td>1.000000</td>\n",
       "      <td>0.000000</td>\n",
       "      <td>0.000000</td>\n",
       "      <td>1.000000</td>\n",
       "      <td>1.000000</td>\n",
       "      <td>0.000000</td>\n",
       "      <td>...</td>\n",
       "      <td>0.000000</td>\n",
       "      <td>0.000000</td>\n",
       "      <td>0.000000</td>\n",
       "      <td>0.000000</td>\n",
       "      <td>0.000000</td>\n",
       "      <td>1.000000</td>\n",
       "      <td>0.000000</td>\n",
       "      <td>0.000000</td>\n",
       "      <td>0.000000</td>\n",
       "      <td>0.000000</td>\n",
       "    </tr>\n",
       "    <tr>\n",
       "      <th>75%</th>\n",
       "      <td>0.000000</td>\n",
       "      <td>55.000000</td>\n",
       "      <td>89.862500</td>\n",
       "      <td>3794.737500</td>\n",
       "      <td>1.000000</td>\n",
       "      <td>1.000000</td>\n",
       "      <td>1.000000</td>\n",
       "      <td>1.000000</td>\n",
       "      <td>1.000000</td>\n",
       "      <td>1.000000</td>\n",
       "      <td>...</td>\n",
       "      <td>1.000000</td>\n",
       "      <td>1.000000</td>\n",
       "      <td>1.000000</td>\n",
       "      <td>1.000000</td>\n",
       "      <td>1.000000</td>\n",
       "      <td>1.000000</td>\n",
       "      <td>0.000000</td>\n",
       "      <td>0.000000</td>\n",
       "      <td>1.000000</td>\n",
       "      <td>0.000000</td>\n",
       "    </tr>\n",
       "    <tr>\n",
       "      <th>max</th>\n",
       "      <td>1.000000</td>\n",
       "      <td>72.000000</td>\n",
       "      <td>118.750000</td>\n",
       "      <td>8684.800000</td>\n",
       "      <td>1.000000</td>\n",
       "      <td>1.000000</td>\n",
       "      <td>1.000000</td>\n",
       "      <td>1.000000</td>\n",
       "      <td>1.000000</td>\n",
       "      <td>1.000000</td>\n",
       "      <td>...</td>\n",
       "      <td>1.000000</td>\n",
       "      <td>1.000000</td>\n",
       "      <td>1.000000</td>\n",
       "      <td>1.000000</td>\n",
       "      <td>1.000000</td>\n",
       "      <td>1.000000</td>\n",
       "      <td>1.000000</td>\n",
       "      <td>1.000000</td>\n",
       "      <td>1.000000</td>\n",
       "      <td>1.000000</td>\n",
       "    </tr>\n",
       "  </tbody>\n",
       "</table>\n",
       "<p>8 rows × 24 columns</p>\n",
       "</div>"
      ],
      "text/plain": [
       "       SeniorCitizen_Yes       tenure  MonthlyCharges  TotalCharges  \\\n",
       "count        7032.000000  7032.000000     7032.000000   7032.000000   \n",
       "mean            0.162400    32.421786       64.798208   2283.300441   \n",
       "std             0.368844    24.545260       30.085974   2266.771362   \n",
       "min             0.000000     1.000000       18.250000     18.800000   \n",
       "25%             0.000000     9.000000       35.587500    401.450000   \n",
       "50%             0.000000    29.000000       70.350000   1397.475000   \n",
       "75%             0.000000    55.000000       89.862500   3794.737500   \n",
       "max             1.000000    72.000000      118.750000   8684.800000   \n",
       "\n",
       "       gender_Male  Partner_Yes  Dependents_Yes  PhoneService_Yes  \\\n",
       "count  7032.000000  7032.000000     7032.000000       7032.000000   \n",
       "mean      0.504693     0.482509        0.298493          0.903299   \n",
       "std       0.500014     0.499729        0.457629          0.295571   \n",
       "min       0.000000     0.000000        0.000000          0.000000   \n",
       "25%       0.000000     0.000000        0.000000          1.000000   \n",
       "50%       1.000000     0.000000        0.000000          1.000000   \n",
       "75%       1.000000     1.000000        1.000000          1.000000   \n",
       "max       1.000000     1.000000        1.000000          1.000000   \n",
       "\n",
       "       PaperlessBilling_Yes    Churn_Yes             ...              \\\n",
       "count           7032.000000  7032.000000             ...               \n",
       "mean               0.592719     0.265785             ...               \n",
       "std                0.491363     0.441782             ...               \n",
       "min                0.000000     0.000000             ...               \n",
       "25%                0.000000     0.000000             ...               \n",
       "50%                1.000000     0.000000             ...               \n",
       "75%                1.000000     1.000000             ...               \n",
       "max                1.000000     1.000000             ...               \n",
       "\n",
       "       TechSupport_Yes  StreamingTV_Yes  StreamingMovies_Yes  \\\n",
       "count      7032.000000      7032.000000          7032.000000   \n",
       "mean          0.290102         0.384386             0.388367   \n",
       "std           0.453842         0.486484             0.487414   \n",
       "min           0.000000         0.000000             0.000000   \n",
       "25%           0.000000         0.000000             0.000000   \n",
       "50%           0.000000         0.000000             0.000000   \n",
       "75%           1.000000         1.000000             1.000000   \n",
       "max           1.000000         1.000000             1.000000   \n",
       "\n",
       "       InternetService_DSL  InternetService_Fiber optic  \\\n",
       "count          7032.000000                  7032.000000   \n",
       "mean              0.343572                     0.440273   \n",
       "std               0.474934                     0.496455   \n",
       "min               0.000000                     0.000000   \n",
       "25%               0.000000                     0.000000   \n",
       "50%               0.000000                     0.000000   \n",
       "75%               1.000000                     1.000000   \n",
       "max               1.000000                     1.000000   \n",
       "\n",
       "       Contract_Month-to-month  Contract_One year  \\\n",
       "count              7032.000000        7032.000000   \n",
       "mean                  0.551052           0.209329   \n",
       "std                   0.497422           0.406858   \n",
       "min                   0.000000           0.000000   \n",
       "25%                   0.000000           0.000000   \n",
       "50%                   1.000000           0.000000   \n",
       "75%                   1.000000           0.000000   \n",
       "max                   1.000000           1.000000   \n",
       "\n",
       "       PaymentMethod_Credit card (automatic)  PaymentMethod_Electronic check  \\\n",
       "count                            7032.000000                     7032.000000   \n",
       "mean                                0.216297                        0.336320   \n",
       "std                                 0.411748                        0.472483   \n",
       "min                                 0.000000                        0.000000   \n",
       "25%                                 0.000000                        0.000000   \n",
       "50%                                 0.000000                        0.000000   \n",
       "75%                                 0.000000                        1.000000   \n",
       "max                                 1.000000                        1.000000   \n",
       "\n",
       "       PaymentMethod_Mailed check  \n",
       "count                 7032.000000  \n",
       "mean                     0.228100  \n",
       "std                      0.419637  \n",
       "min                      0.000000  \n",
       "25%                      0.000000  \n",
       "50%                      0.000000  \n",
       "75%                      0.000000  \n",
       "max                      1.000000  \n",
       "\n",
       "[8 rows x 24 columns]"
      ]
     },
     "execution_count": 333,
     "metadata": {},
     "output_type": "execute_result"
    }
   ],
   "source": [
    "data_out.describe()"
   ]
  },
  {
   "cell_type": "markdown",
   "metadata": {},
   "source": [
    "### Measure of frequency\n"
   ]
  },
  {
   "cell_type": "code",
   "execution_count": 334,
   "metadata": {},
   "outputs": [
    {
     "data": {
      "text/plain": [
       "<Figure size 432x288 with 0 Axes>"
      ]
     },
     "metadata": {},
     "output_type": "display_data"
    },
    {
     "data": {
      "image/png": "[encoded data removed]",
      "text/plain": [
       "<Figure size 720x1080 with 21 Axes>"
      ]
     },
     "metadata": {},
     "output_type": "display_data"
    }
   ],
   "source": [
    "plt.subplots_adjust(wspace=2,hspace=2)\n",
    "plt.figure(figsize=(10,15))\n",
    "store = 0\n",
    "\n",
    "for i in range(len(data_out.columns)-3):    \n",
    "    if i == 0 | i > 4:\n",
    "            size = data_out[data_out.columns[i]].value_counts()\n",
    "            plt.subplot(7,3,i-4)\n",
    "            plt.pie(size, labels=[\"no\", \"yes\"], shadow = True, autopct='%1.0f%%')\n",
    "            plt.title(data_out.columns[i])\n",
    "            store = i\n",
    "size = data_out[\"SeniorCitizen_Yes\"].value_counts()\n",
    "plt.subplot(7,3,store -3)\n",
    "plt.pie(size, labels=[\"no\", \"yes\"], shadow = True, autopct='%1.0f%%')\n",
    "plt.title(\"SeniorCitizen_Yes\")\n",
    "\n",
    "\n",
    "plt.show()    "
   ]
  },
  {
   "cell_type": "code",
   "execution_count": 335,
   "metadata": {
    "scrolled": false
   },
   "outputs": [
    {
     "data": {
      "image/png": "[encoded data removed]",
      "text/plain": [
       "<Figure size 432x288 with 1 Axes>"
      ]
     },
     "metadata": {},
     "output_type": "display_data"
    },
    {
     "data": {
      "image/png": "[encoded data removed]",
      "text/plain": [
       "<Figure size 432x288 with 1 Axes>"
      ]
     },
     "metadata": {},
     "output_type": "display_data"
    },
    {
     "data": {
      "image/png": "[encoded data removed]",
      "text/plain": [
       "<Figure size 432x288 with 1 Axes>"
      ]
     },
     "metadata": {},
     "output_type": "display_data"
    }
   ],
   "source": [
    "#fig, axs = plt.subplots(3,1)\n",
    "plt.hist(data_out[\"MonthlyCharges\"])\n",
    "plt.title(\"Monthly Charges\")\n",
    "plt.show()\n",
    "plt.hist(data_out[\"TotalCharges\"])\n",
    "plt.title(\"Total Charges\")\n",
    "plt.show()\n",
    "plt.hist(data_out[\"tenure\"])\n",
    "plt.title(\"Tenure\")\n",
    "plt.show()"
   ]
  },
  {
   "cell_type": "code",
   "execution_count": 336,
   "metadata": {},
   "outputs": [
    {
     "data": {
      "image/png": "[encoded data removed]",
      "text/plain": [
       "<Figure size 432x288 with 1 Axes>"
      ]
     },
     "metadata": {},
     "output_type": "display_data"
    },
    {
     "data": {
      "image/png": "[encoded data removed]",
      "text/plain": [
       "<Figure size 432x288 with 1 Axes>"
      ]
     },
     "metadata": {},
     "output_type": "display_data"
    },
    {
     "data": {
      "image/png": "[encoded data removed]",
      "text/plain": [
       "<Figure size 432x288 with 1 Axes>"
      ]
     },
     "metadata": {},
     "output_type": "display_data"
    }
   ],
   "source": [
    "sns.boxplot(data_out[\"MonthlyCharges\"]) \n",
    "plt.show()\n",
    "sns.boxplot(data_out[\"TotalCharges\"]) \n",
    "plt.show()\n",
    "sns.boxplot(data_out[\"tenure\"]) \n",
    "plt.show()"
   ]
  },
  {
   "cell_type": "markdown",
   "metadata": {},
   "source": [
    "## Bivariate Analysis"
   ]
  },
  {
   "cell_type": "raw",
   "metadata": {},
   "source": [
    "The reference variable is Churn, which is qualitative. For this reason we will have to use ANOVA when comparing it with a quantitative variable and the contingency table when comparing it with a qualitative variable."
   ]
  },
  {
   "cell_type": "code",
   "execution_count": 337,
   "metadata": {},
   "outputs": [
    {
     "data": {
      "text/plain": [
       "Index(['customerID', 'SeniorCitizen_Yes', 'tenure', 'MonthlyCharges',\n",
       "       'TotalCharges', 'gender_Male', 'Partner_Yes', 'Dependents_Yes',\n",
       "       'PhoneService_Yes', 'PaperlessBilling_Yes', 'Churn_Yes',\n",
       "       'MultipleLines_Yes', 'OnlineSecurity_Yes', 'OnlineBackup_Yes',\n",
       "       'DeviceProtection_Yes', 'TechSupport_Yes', 'StreamingTV_Yes',\n",
       "       'StreamingMovies_Yes', 'InternetService_DSL',\n",
       "       'InternetService_Fiber optic', 'Contract_Month-to-month',\n",
       "       'Contract_One year', 'PaymentMethod_Credit card (automatic)',\n",
       "       'PaymentMethod_Electronic check', 'PaymentMethod_Mailed check',\n",
       "       'tenure_bins', 'MonthlyCharges_bins', 'TotalCharges_bins'],\n",
       "      dtype='object')"
      ]
     },
     "execution_count": 337,
     "metadata": {},
     "output_type": "execute_result"
    }
   ],
   "source": [
    "data.columns"
   ]
  },
  {
   "cell_type": "code",
   "execution_count": 338,
   "metadata": {},
   "outputs": [
    {
     "data": {
      "text/plain": [
       "array([[4497.,  666.],\n",
       "       [1393.,  476.]])"
      ]
     },
     "execution_count": 338,
     "metadata": {},
     "output_type": "execute_result"
    }
   ],
   "source": [
    "table = sm.stats.Table.from_data(data[[\"Churn_Yes\", \"SeniorCitizen_Yes\"]])\n",
    "table.table"
   ]
  },
  {
   "cell_type": "markdown",
   "metadata": {},
   "source": [
    "### contingency tables + cramer's V test"
   ]
  },
  {
   "cell_type": "code",
   "execution_count": 360,
   "metadata": {},
   "outputs": [],
   "source": [
    "def cramers_v(confusion_matrix):\n",
    "    #confusion_matrix = pd.crosstab(x,y)\n",
    "    chi2 = scipy.stats.chi2_contingency(confusion_matrix)[0]\n",
    "    n = confusion_matrix.sum().sum()\n",
    "    phi2 = chi2/n\n",
    "    r,k = confusion_matrix.shape\n",
    "    phi2corr = max(0, phi2-((k-1)*(r-1))/(n-1))\n",
    "    rcorr = r-((r-1)**2)/(n-1)\n",
    "    kcorr = k-((k-1)**2)/(n-1)\n",
    "    return np.sqrt(phi2corr/min((kcorr-1),(rcorr-1)))"
   ]
  },
  {
   "cell_type": "code",
   "execution_count": 374,
   "metadata": {
    "scrolled": true
   },
   "outputs": [
    {
     "name": "stdout",
     "output_type": "stream",
     "text": [
      "SeniorCitizen_Yes     0    1\n",
      "Churn_Yes                   \n",
      "0                  4497  666\n",
      "1                  1393  476\n",
      "cramer's V: 0.14964076703557547\n",
      "\n",
      "gender_Male     0     1\n",
      "Churn_Yes              \n",
      "0            2544  2619\n",
      "1             939   930\n",
      "cramer's V: 0.0\n",
      "\n",
      "Partner_Yes     0     1\n",
      "Churn_Yes              \n",
      "0            2439  2724\n",
      "1            1200   669\n",
      "cramer's V: 0.14919449600978893\n",
      "\n",
      "Dependents_Yes     0     1\n",
      "Churn_Yes                 \n",
      "0               3390  1773\n",
      "1               1543   326\n",
      "cramer's V: 0.16235077099642556\n",
      "\n",
      "PhoneService_Yes    0     1\n",
      "Churn_Yes                  \n",
      "0                 510  4653\n",
      "1                 170  1699\n",
      "cramer's V: 0.0\n",
      "\n",
      "PaperlessBilling_Yes     0     1\n",
      "Churn_Yes                       \n",
      "0                     2395  2768\n",
      "1                      469  1400\n",
      "cramer's V: 0.19076784985280437\n",
      "\n",
      "MultipleLines_Yes     0     1\n",
      "Churn_Yes                    \n",
      "0                  3046  2117\n",
      "1                  1019   850\n",
      "cramer's V: 0.03787622892128604\n",
      "\n",
      "OnlineSecurity_Yes     0     1\n",
      "Churn_Yes                     \n",
      "0                   3443  1720\n",
      "1                   1574   295\n",
      "cramer's V: 0.17050947663285695\n",
      "\n",
      "OnlineBackup_Yes     0     1\n",
      "Churn_Yes                   \n",
      "0                 3261  1902\n",
      "1                 1346   523\n",
      "cramer's V: 0.08110188920180228\n",
      "\n",
      "DeviceProtection_Yes     0     1\n",
      "Churn_Yes                       \n",
      "0                     3290  1873\n",
      "1                     1324   545\n",
      "cramer's V: 0.06476938233032242\n",
      "\n",
      "TechSupport_Yes     0     1\n",
      "Churn_Yes                  \n",
      "0                3433  1730\n",
      "1                1559   310\n",
      "cramer's V: 0.16393964602187003\n",
      "\n",
      "StreamingTV_Yes     0     1\n",
      "Churn_Yes                  \n",
      "0                3274  1889\n",
      "1                1055   814\n",
      "cramer's V: 0.061786986351171795\n",
      "\n",
      "StreamingMovies_Yes     0     1\n",
      "Churn_Yes                      \n",
      "0                    3250  1913\n",
      "1                    1051   818\n",
      "cramer's V: 0.05934741943658539\n",
      "\n",
      "InternetService_DSL     0     1\n",
      "Churn_Yes                      \n",
      "0                    3206  1957\n",
      "1                    1410   459\n",
      "cramer's V: 0.12323551029806806\n",
      "\n",
      "InternetService_Fiber optic     0     1\n",
      "Churn_Yes                              \n",
      "0                            3364  1799\n",
      "1                             572  1297\n",
      "cramer's V: 0.3069285558558374\n",
      "\n",
      "Contract_Month-to-month     0     1\n",
      "Churn_Yes                          \n",
      "0                        2943  2220\n",
      "1                         214  1655\n",
      "cramer's V: 0.40409372186981757\n",
      "\n",
      "Contract_One year     0     1\n",
      "Churn_Yes                    \n",
      "0                  3857  1306\n",
      "1                  1703   166\n",
      "cramer's V: 0.17744165195119577\n",
      "\n",
      "PaymentMethod_Credit card (automatic)     0     1\n",
      "Churn_Yes                                        \n",
      "0                                      3874  1289\n",
      "1                                      1637   232\n",
      "cramer's V: 0.13377483025867482\n",
      "\n",
      "PaymentMethod_Electronic check     0     1\n",
      "Churn_Yes                                 \n",
      "0                               3869  1294\n",
      "1                                798  1071\n",
      "cramer's V: 0.30089908603098137\n",
      "\n",
      "PaymentMethod_Mailed check     0     1\n",
      "Churn_Yes                             \n",
      "0                           3867  1296\n",
      "1                           1561   308\n",
      "cramer's V: 0.08960542198077247\n",
      "\n"
     ]
    }
   ],
   "source": [
    "#this is pretty ugly but does the job\n",
    "\n",
    "cont_tab_senior = pd.crosstab(index = data_out[\"Churn_Yes\"], columns=data_out[\"SeniorCitizen_Yes\"])\n",
    "cramer_senior = cramers_v(cont_tab_senior)\n",
    "print(cont_tab_senior)\n",
    "print(f\"cramer's V: {cramer_senior}\\n\")\n",
    "for i in range(5,len(data_out.columns) - 3):    \n",
    "    if data_out.columns[i] == \"Churn_Yes\":\n",
    "        continue\n",
    "    contingency_table = pd.crosstab(index = data_out[\"Churn_Yes\"], columns=data_out[data_out.columns[i]])\n",
    "    print(contingency_table)\n",
    "    cramer = cramers_v(contingency_table)\n",
    "    print(f\"cramer's V: {cramer}\\n\")"
   ]
  },
  {
   "cell_type": "markdown",
   "metadata": {},
   "source": [
    "### ANOVA - important: it assumes normalized data"
   ]
  },
  {
   "cell_type": "code",
   "execution_count": 391,
   "metadata": {},
   "outputs": [
    {
     "name": "stdout",
     "output_type": "stream",
     "text": [
      "                     sum_sq      df           F         PR(>F)\n",
      "TotalCharges      21.488662     1.0  141.942505   2.050726e-32\n",
      "MonthlyCharges    99.000796     1.0  653.945834  5.415668e-138\n",
      "tenure             5.578363     1.0   36.847654   1.343746e-09\n",
      "Residual        1063.968237  7028.0         NaN            NaN\n"
     ]
    }
   ],
   "source": [
    "mod = ols(formula='Churn_Yes ~ TotalCharges + MonthlyCharges + tenure', data=data_out).fit()\n",
    "table = sm.stats.anova_lm(mod, typ=2) # Type 2 ANOVA DataFrame"
   ]
  },
  {
   "cell_type": "code",
   "execution_count": 395,
   "metadata": {},
   "outputs": [
    {
     "data": {
      "text/html": [
       "<div>\n",
       "<style scoped>\n",
       "    .dataframe tbody tr th:only-of-type {\n",
       "        vertical-align: middle;\n",
       "    }\n",
       "\n",
       "    .dataframe tbody tr th {\n",
       "        vertical-align: top;\n",
       "    }\n",
       "\n",
       "    .dataframe thead th {\n",
       "        text-align: right;\n",
       "    }\n",
       "</style>\n",
       "<table border=\"1\" class=\"dataframe\">\n",
       "  <thead>\n",
       "    <tr style=\"text-align: right;\">\n",
       "      <th></th>\n",
       "      <th>sum_sq</th>\n",
       "      <th>df</th>\n",
       "      <th>mean_sq</th>\n",
       "      <th>F</th>\n",
       "      <th>PR(&gt;F)</th>\n",
       "      <th>eta_sq</th>\n",
       "      <th>omega_sq</th>\n",
       "    </tr>\n",
       "  </thead>\n",
       "  <tbody>\n",
       "    <tr>\n",
       "      <th>TotalCharges</th>\n",
       "      <td>21.488662</td>\n",
       "      <td>1.0</td>\n",
       "      <td>21.488662</td>\n",
       "      <td>141.942505</td>\n",
       "      <td>2.050726e-32</td>\n",
       "      <td>0.018057</td>\n",
       "      <td>0.017928</td>\n",
       "    </tr>\n",
       "    <tr>\n",
       "      <th>MonthlyCharges</th>\n",
       "      <td>99.000796</td>\n",
       "      <td>1.0</td>\n",
       "      <td>99.000796</td>\n",
       "      <td>653.945834</td>\n",
       "      <td>5.415668e-138</td>\n",
       "      <td>0.083191</td>\n",
       "      <td>0.083054</td>\n",
       "    </tr>\n",
       "    <tr>\n",
       "      <th>tenure</th>\n",
       "      <td>5.578363</td>\n",
       "      <td>1.0</td>\n",
       "      <td>5.578363</td>\n",
       "      <td>36.847654</td>\n",
       "      <td>1.343746e-09</td>\n",
       "      <td>0.004688</td>\n",
       "      <td>0.004560</td>\n",
       "    </tr>\n",
       "    <tr>\n",
       "      <th>Residual</th>\n",
       "      <td>1063.968237</td>\n",
       "      <td>7028.0</td>\n",
       "      <td>0.151390</td>\n",
       "      <td>NaN</td>\n",
       "      <td>NaN</td>\n",
       "      <td>NaN</td>\n",
       "      <td>NaN</td>\n",
       "    </tr>\n",
       "  </tbody>\n",
       "</table>\n",
       "</div>"
      ],
      "text/plain": [
       "                     sum_sq      df    mean_sq           F         PR(>F)  \\\n",
       "TotalCharges      21.488662     1.0  21.488662  141.942505   2.050726e-32   \n",
       "MonthlyCharges    99.000796     1.0  99.000796  653.945834  5.415668e-138   \n",
       "tenure             5.578363     1.0   5.578363   36.847654   1.343746e-09   \n",
       "Residual        1063.968237  7028.0   0.151390         NaN            NaN   \n",
       "\n",
       "                  eta_sq  omega_sq  \n",
       "TotalCharges    0.018057  0.017928  \n",
       "MonthlyCharges  0.083191  0.083054  \n",
       "tenure          0.004688  0.004560  \n",
       "Residual             NaN       NaN  "
      ]
     },
     "execution_count": 395,
     "metadata": {},
     "output_type": "execute_result"
    }
   ],
   "source": [
    "#this function adds the effect size (eta sqared)\n",
    "def anova_table(aov):\n",
    "    aov['mean_sq'] = aov[:]['sum_sq']/aov[:]['df']\n",
    "    \n",
    "    aov['eta_sq'] = aov[:-1]['sum_sq']/sum(aov['sum_sq'])\n",
    "    \n",
    "    aov['omega_sq'] = (aov[:-1]['sum_sq']-(aov[:-1]['df']*aov['mean_sq'][-1]))/(sum(aov['sum_sq'])+aov['mean_sq'][-1])\n",
    "    \n",
    "    cols = ['sum_sq', 'df', 'mean_sq', 'F', 'PR(>F)', 'eta_sq', 'omega_sq']\n",
    "    aov = aov[cols]\n",
    "    return aov\n",
    "\n",
    "anova_table(table)"
   ]
  },
  {
   "cell_type": "code",
   "execution_count": null,
   "metadata": {},
   "outputs": [],
   "source": []
  }
 ],
 "metadata": {
  "kernelspec": {
   "display_name": "Python 3",
   "language": "python",
   "name": "python3"
  },
  "language_info": {
   "codemirror_mode": {
    "name": "ipython",
    "version": 3
   },
   "file_extension": ".py",
   "mimetype": "text/x-python",
   "name": "python",
   "nbconvert_exporter": "python",
   "pygments_lexer": "ipython3",
   "version": "3.7.0"
  }
 },
 "nbformat": 4,
 "nbformat_minor": 2
}
